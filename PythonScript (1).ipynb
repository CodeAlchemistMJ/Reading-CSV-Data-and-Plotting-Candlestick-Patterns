{
  "cells": [
    {
      "cell_type": "code",
      "execution_count": 3,
      "metadata": {
        "colab": {
          "base_uri": "https://localhost:8080/"
        },
        "id": "tFY2OCZX1nfb",
        "outputId": "51303ea6-d312-4372-bf5d-8656d92d666d"
      },
      "outputs": [
        {
          "name": "stdout",
          "output_type": "stream",
          "text": [
            "Requirement already satisfied: mplfinance in c:\\users\\lenovo\\appdata\\local\\packages\\pythonsoftwarefoundation.python.3.11_qbz5n2kfra8p0\\localcache\\local-packages\\python311\\site-packages (0.12.10b0)\n",
            "Requirement already satisfied: matplotlib in c:\\users\\lenovo\\appdata\\local\\packages\\pythonsoftwarefoundation.python.3.11_qbz5n2kfra8p0\\localcache\\local-packages\\python311\\site-packages (from mplfinance) (3.9.0)\n",
            "Requirement already satisfied: pandas in c:\\users\\lenovo\\appdata\\local\\packages\\pythonsoftwarefoundation.python.3.11_qbz5n2kfra8p0\\localcache\\local-packages\\python311\\site-packages (from mplfinance) (2.2.2)\n",
            "Requirement already satisfied: contourpy>=1.0.1 in c:\\users\\lenovo\\appdata\\local\\packages\\pythonsoftwarefoundation.python.3.11_qbz5n2kfra8p0\\localcache\\local-packages\\python311\\site-packages (from matplotlib->mplfinance) (1.2.1)\n",
            "Requirement already satisfied: cycler>=0.10 in c:\\users\\lenovo\\appdata\\local\\packages\\pythonsoftwarefoundation.python.3.11_qbz5n2kfra8p0\\localcache\\local-packages\\python311\\site-packages (from matplotlib->mplfinance) (0.12.1)\n",
            "Requirement already satisfied: fonttools>=4.22.0 in c:\\users\\lenovo\\appdata\\local\\packages\\pythonsoftwarefoundation.python.3.11_qbz5n2kfra8p0\\localcache\\local-packages\\python311\\site-packages (from matplotlib->mplfinance) (4.53.0)\n",
            "Requirement already satisfied: kiwisolver>=1.3.1 in c:\\users\\lenovo\\appdata\\local\\packages\\pythonsoftwarefoundation.python.3.11_qbz5n2kfra8p0\\localcache\\local-packages\\python311\\site-packages (from matplotlib->mplfinance) (1.4.5)\n",
            "Requirement already satisfied: numpy>=1.23 in c:\\users\\lenovo\\appdata\\local\\packages\\pythonsoftwarefoundation.python.3.11_qbz5n2kfra8p0\\localcache\\local-packages\\python311\\site-packages (from matplotlib->mplfinance) (1.26.2)\n",
            "Requirement already satisfied: packaging>=20.0 in c:\\users\\lenovo\\appdata\\local\\packages\\pythonsoftwarefoundation.python.3.11_qbz5n2kfra8p0\\localcache\\local-packages\\python311\\site-packages (from matplotlib->mplfinance) (24.0)\n",
            "Requirement already satisfied: pillow>=8 in c:\\users\\lenovo\\appdata\\local\\packages\\pythonsoftwarefoundation.python.3.11_qbz5n2kfra8p0\\localcache\\local-packages\\python311\\site-packages (from matplotlib->mplfinance) (10.3.0)\n",
            "Requirement already satisfied: pyparsing>=2.3.1 in c:\\users\\lenovo\\appdata\\local\\packages\\pythonsoftwarefoundation.python.3.11_qbz5n2kfra8p0\\localcache\\local-packages\\python311\\site-packages (from matplotlib->mplfinance) (3.1.2)\n",
            "Requirement already satisfied: python-dateutil>=2.7 in c:\\users\\lenovo\\appdata\\local\\packages\\pythonsoftwarefoundation.python.3.11_qbz5n2kfra8p0\\localcache\\local-packages\\python311\\site-packages (from matplotlib->mplfinance) (2.9.0.post0)\n",
            "Requirement already satisfied: pytz>=2020.1 in c:\\users\\lenovo\\appdata\\local\\packages\\pythonsoftwarefoundation.python.3.11_qbz5n2kfra8p0\\localcache\\local-packages\\python311\\site-packages (from pandas->mplfinance) (2024.1)\n",
            "Requirement already satisfied: tzdata>=2022.7 in c:\\users\\lenovo\\appdata\\local\\packages\\pythonsoftwarefoundation.python.3.11_qbz5n2kfra8p0\\localcache\\local-packages\\python311\\site-packages (from pandas->mplfinance) (2024.1)\n",
            "Requirement already satisfied: six>=1.5 in c:\\users\\lenovo\\appdata\\local\\packages\\pythonsoftwarefoundation.python.3.11_qbz5n2kfra8p0\\localcache\\local-packages\\python311\\site-packages (from python-dateutil>=2.7->matplotlib->mplfinance) (1.16.0)\n",
            "Note: you may need to restart the kernel to use updated packages.\n"
          ]
        },
        {
          "name": "stderr",
          "output_type": "stream",
          "text": [
            "\n",
            "[notice] A new release of pip is available: 24.0 -> 24.3.1\n",
            "[notice] To update, run: C:\\Users\\lenovo\\AppData\\Local\\Microsoft\\WindowsApps\\PythonSoftwareFoundation.Python.3.11_qbz5n2kfra8p0\\python.exe -m pip install --upgrade pip\n"
          ]
        }
      ],
      "source": [
        "pip install --upgrade mplfinance"
      ]
    },
    {
      "cell_type": "code",
      "execution_count": 4,
      "metadata": {
        "id": "JKzXZfSp2U_0"
      },
      "outputs": [],
      "source": [
        "import pandas as pd\n",
        "import matplotlib.pyplot as plt\n",
        "from mplfinance.original_flavor import candlestick_ohlc\n",
        "import matplotlib.dates as mdates\n",
        "import ipywidgets as widgets\n",
        "from IPython.display import display"
      ]
    },
    {
      "cell_type": "markdown",
      "metadata": {
        "id": "1zXlRUI529Db"
      },
      "source": [
        "Step-1 : Read CSV data into a dataframe"
      ]
    },
    {
      "cell_type": "code",
      "execution_count": 5,
      "metadata": {
        "colab": {
          "base_uri": "https://localhost:8080/",
          "height": 614
        },
        "id": "leWEio3v3MM1",
        "outputId": "fcbed0e0-0221-43f7-8f66-8ff7b737b48f"
      },
      "outputs": [
        {
          "name": "stdout",
          "output_type": "stream",
          "text": [
            "      Unnamed: 0                      Date    Open    High     Low   Close  \\\n",
            "0              0  2023-03-06T09:15:00+0530  173.55  174.45  173.15  174.35   \n",
            "1              1  2023-03-06T09:20:00+0530  174.30  174.50  173.70  174.30   \n",
            "2              2  2023-03-06T09:25:00+0530  174.30  174.45  173.55  174.45   \n",
            "3              3  2023-03-06T09:30:00+0530  174.45  174.90  174.25  174.80   \n",
            "4              4  2023-03-06T09:35:00+0530  174.80  175.20  174.50  175.05   \n",
            "...          ...                       ...     ...     ...     ...     ...   \n",
            "1721        1721  2023-04-11T15:10:00+0530  170.70  171.00  170.60  171.00   \n",
            "1722        1722  2023-04-11T15:15:00+0530  171.00  171.30  170.75  170.90   \n",
            "1723        1723  2023-04-11T15:20:00+0530  170.85  171.05  170.65  170.90   \n",
            "1724        1724  2023-04-11T15:25:00+0530  170.85  171.05  170.75  170.75   \n",
            "1725        1725  2023-04-11T15:30:00+0530  170.80  170.80  170.80  170.80   \n",
            "\n",
            "      Volume  \n",
            "0     997805  \n",
            "1     750498  \n",
            "2     483941  \n",
            "3     793743  \n",
            "4     874142  \n",
            "...      ...  \n",
            "1721  557529  \n",
            "1722  888538  \n",
            "1723  762107  \n",
            "1724  343612  \n",
            "1725    3571  \n",
            "\n",
            "[1726 rows x 7 columns]\n"
          ]
        }
      ],
      "source": [
        "data = \"https://trello.com/1/cards/6438c561324b51d6acb221e1/attachments/643ff55dd651987ffe1ad119/download/StockDataBANKBARODA_1.csv\"\n",
        "df = pd.read_csv(data)\n",
        "print(df)"
      ]
    },
    {
      "cell_type": "markdown",
      "metadata": {
        "id": "dnsa2-EP3c9L"
      },
      "source": [
        "Step-2: Cleaning and Preprocessing of data"
      ]
    },
    {
      "cell_type": "code",
      "execution_count": 6,
      "metadata": {
        "colab": {
          "base_uri": "https://localhost:8080/",
          "height": 206
        },
        "id": "a3kfAD1e6tN_",
        "outputId": "08691fec-9c0f-4be1-d3f1-f15c57a3fd6f"
      },
      "outputs": [
        {
          "data": {
            "text/html": [
              "<div>\n",
              "<style scoped>\n",
              "    .dataframe tbody tr th:only-of-type {\n",
              "        vertical-align: middle;\n",
              "    }\n",
              "\n",
              "    .dataframe tbody tr th {\n",
              "        vertical-align: top;\n",
              "    }\n",
              "\n",
              "    .dataframe thead th {\n",
              "        text-align: right;\n",
              "    }\n",
              "</style>\n",
              "<table border=\"1\" class=\"dataframe\">\n",
              "  <thead>\n",
              "    <tr style=\"text-align: right;\">\n",
              "      <th></th>\n",
              "      <th>Unnamed: 0</th>\n",
              "      <th>Date</th>\n",
              "      <th>Open</th>\n",
              "      <th>High</th>\n",
              "      <th>Low</th>\n",
              "      <th>Close</th>\n",
              "      <th>Volume</th>\n",
              "    </tr>\n",
              "  </thead>\n",
              "  <tbody>\n",
              "    <tr>\n",
              "      <th>0</th>\n",
              "      <td>0</td>\n",
              "      <td>2023-03-06T09:15:00+0530</td>\n",
              "      <td>173.55</td>\n",
              "      <td>174.45</td>\n",
              "      <td>173.15</td>\n",
              "      <td>174.35</td>\n",
              "      <td>997805</td>\n",
              "    </tr>\n",
              "    <tr>\n",
              "      <th>1</th>\n",
              "      <td>1</td>\n",
              "      <td>2023-03-06T09:20:00+0530</td>\n",
              "      <td>174.30</td>\n",
              "      <td>174.50</td>\n",
              "      <td>173.70</td>\n",
              "      <td>174.30</td>\n",
              "      <td>750498</td>\n",
              "    </tr>\n",
              "    <tr>\n",
              "      <th>2</th>\n",
              "      <td>2</td>\n",
              "      <td>2023-03-06T09:25:00+0530</td>\n",
              "      <td>174.30</td>\n",
              "      <td>174.45</td>\n",
              "      <td>173.55</td>\n",
              "      <td>174.45</td>\n",
              "      <td>483941</td>\n",
              "    </tr>\n",
              "    <tr>\n",
              "      <th>3</th>\n",
              "      <td>3</td>\n",
              "      <td>2023-03-06T09:30:00+0530</td>\n",
              "      <td>174.45</td>\n",
              "      <td>174.90</td>\n",
              "      <td>174.25</td>\n",
              "      <td>174.80</td>\n",
              "      <td>793743</td>\n",
              "    </tr>\n",
              "    <tr>\n",
              "      <th>4</th>\n",
              "      <td>4</td>\n",
              "      <td>2023-03-06T09:35:00+0530</td>\n",
              "      <td>174.80</td>\n",
              "      <td>175.20</td>\n",
              "      <td>174.50</td>\n",
              "      <td>175.05</td>\n",
              "      <td>874142</td>\n",
              "    </tr>\n",
              "  </tbody>\n",
              "</table>\n",
              "</div>"
            ],
            "text/plain": [
              "   Unnamed: 0                      Date    Open    High     Low   Close  \\\n",
              "0           0  2023-03-06T09:15:00+0530  173.55  174.45  173.15  174.35   \n",
              "1           1  2023-03-06T09:20:00+0530  174.30  174.50  173.70  174.30   \n",
              "2           2  2023-03-06T09:25:00+0530  174.30  174.45  173.55  174.45   \n",
              "3           3  2023-03-06T09:30:00+0530  174.45  174.90  174.25  174.80   \n",
              "4           4  2023-03-06T09:35:00+0530  174.80  175.20  174.50  175.05   \n",
              "\n",
              "   Volume  \n",
              "0  997805  \n",
              "1  750498  \n",
              "2  483941  \n",
              "3  793743  \n",
              "4  874142  "
            ]
          },
          "execution_count": 6,
          "metadata": {},
          "output_type": "execute_result"
        }
      ],
      "source": [
        "df.head()"
      ]
    },
    {
      "cell_type": "code",
      "execution_count": 7,
      "metadata": {
        "colab": {
          "base_uri": "https://localhost:8080/",
          "height": 206
        },
        "id": "-VBrltjJ66LB",
        "outputId": "013c461e-18c9-48c9-d884-1e17ba14d42d"
      },
      "outputs": [
        {
          "data": {
            "text/html": [
              "<div>\n",
              "<style scoped>\n",
              "    .dataframe tbody tr th:only-of-type {\n",
              "        vertical-align: middle;\n",
              "    }\n",
              "\n",
              "    .dataframe tbody tr th {\n",
              "        vertical-align: top;\n",
              "    }\n",
              "\n",
              "    .dataframe thead th {\n",
              "        text-align: right;\n",
              "    }\n",
              "</style>\n",
              "<table border=\"1\" class=\"dataframe\">\n",
              "  <thead>\n",
              "    <tr style=\"text-align: right;\">\n",
              "      <th></th>\n",
              "      <th>Unnamed: 0</th>\n",
              "      <th>Date</th>\n",
              "      <th>Open</th>\n",
              "      <th>High</th>\n",
              "      <th>Low</th>\n",
              "      <th>Close</th>\n",
              "      <th>Volume</th>\n",
              "    </tr>\n",
              "  </thead>\n",
              "  <tbody>\n",
              "    <tr>\n",
              "      <th>1721</th>\n",
              "      <td>1721</td>\n",
              "      <td>2023-04-11T15:10:00+0530</td>\n",
              "      <td>170.70</td>\n",
              "      <td>171.00</td>\n",
              "      <td>170.60</td>\n",
              "      <td>171.00</td>\n",
              "      <td>557529</td>\n",
              "    </tr>\n",
              "    <tr>\n",
              "      <th>1722</th>\n",
              "      <td>1722</td>\n",
              "      <td>2023-04-11T15:15:00+0530</td>\n",
              "      <td>171.00</td>\n",
              "      <td>171.30</td>\n",
              "      <td>170.75</td>\n",
              "      <td>170.90</td>\n",
              "      <td>888538</td>\n",
              "    </tr>\n",
              "    <tr>\n",
              "      <th>1723</th>\n",
              "      <td>1723</td>\n",
              "      <td>2023-04-11T15:20:00+0530</td>\n",
              "      <td>170.85</td>\n",
              "      <td>171.05</td>\n",
              "      <td>170.65</td>\n",
              "      <td>170.90</td>\n",
              "      <td>762107</td>\n",
              "    </tr>\n",
              "    <tr>\n",
              "      <th>1724</th>\n",
              "      <td>1724</td>\n",
              "      <td>2023-04-11T15:25:00+0530</td>\n",
              "      <td>170.85</td>\n",
              "      <td>171.05</td>\n",
              "      <td>170.75</td>\n",
              "      <td>170.75</td>\n",
              "      <td>343612</td>\n",
              "    </tr>\n",
              "    <tr>\n",
              "      <th>1725</th>\n",
              "      <td>1725</td>\n",
              "      <td>2023-04-11T15:30:00+0530</td>\n",
              "      <td>170.80</td>\n",
              "      <td>170.80</td>\n",
              "      <td>170.80</td>\n",
              "      <td>170.80</td>\n",
              "      <td>3571</td>\n",
              "    </tr>\n",
              "  </tbody>\n",
              "</table>\n",
              "</div>"
            ],
            "text/plain": [
              "      Unnamed: 0                      Date    Open    High     Low   Close  \\\n",
              "1721        1721  2023-04-11T15:10:00+0530  170.70  171.00  170.60  171.00   \n",
              "1722        1722  2023-04-11T15:15:00+0530  171.00  171.30  170.75  170.90   \n",
              "1723        1723  2023-04-11T15:20:00+0530  170.85  171.05  170.65  170.90   \n",
              "1724        1724  2023-04-11T15:25:00+0530  170.85  171.05  170.75  170.75   \n",
              "1725        1725  2023-04-11T15:30:00+0530  170.80  170.80  170.80  170.80   \n",
              "\n",
              "      Volume  \n",
              "1721  557529  \n",
              "1722  888538  \n",
              "1723  762107  \n",
              "1724  343612  \n",
              "1725    3571  "
            ]
          },
          "execution_count": 7,
          "metadata": {},
          "output_type": "execute_result"
        }
      ],
      "source": [
        "df.tail()"
      ]
    },
    {
      "cell_type": "code",
      "execution_count": 8,
      "metadata": {
        "colab": {
          "base_uri": "https://localhost:8080/"
        },
        "id": "C9T_OWlY69Fx",
        "outputId": "97ff9805-b027-4cdf-933d-879347316c1c"
      },
      "outputs": [
        {
          "name": "stdout",
          "output_type": "stream",
          "text": [
            "<class 'pandas.core.frame.DataFrame'>\n",
            "RangeIndex: 1726 entries, 0 to 1725\n",
            "Data columns (total 7 columns):\n",
            " #   Column      Non-Null Count  Dtype  \n",
            "---  ------      --------------  -----  \n",
            " 0   Unnamed: 0  1726 non-null   int64  \n",
            " 1   Date        1726 non-null   object \n",
            " 2   Open        1726 non-null   float64\n",
            " 3   High        1726 non-null   float64\n",
            " 4   Low         1726 non-null   float64\n",
            " 5   Close       1726 non-null   float64\n",
            " 6   Volume      1726 non-null   int64  \n",
            "dtypes: float64(4), int64(2), object(1)\n",
            "memory usage: 94.5+ KB\n"
          ]
        }
      ],
      "source": [
        "df.info()"
      ]
    },
    {
      "cell_type": "code",
      "execution_count": 9,
      "metadata": {
        "colab": {
          "base_uri": "https://localhost:8080/",
          "height": 423
        },
        "id": "WudopU5C7Cxe",
        "outputId": "0f042a50-4d71-49df-c5f5-e970c00ca123"
      },
      "outputs": [
        {
          "data": {
            "text/html": [
              "<div>\n",
              "<style scoped>\n",
              "    .dataframe tbody tr th:only-of-type {\n",
              "        vertical-align: middle;\n",
              "    }\n",
              "\n",
              "    .dataframe tbody tr th {\n",
              "        vertical-align: top;\n",
              "    }\n",
              "\n",
              "    .dataframe thead th {\n",
              "        text-align: right;\n",
              "    }\n",
              "</style>\n",
              "<table border=\"1\" class=\"dataframe\">\n",
              "  <thead>\n",
              "    <tr style=\"text-align: right;\">\n",
              "      <th></th>\n",
              "      <th>Unnamed: 0</th>\n",
              "      <th>Date</th>\n",
              "      <th>Open</th>\n",
              "      <th>High</th>\n",
              "      <th>Low</th>\n",
              "      <th>Close</th>\n",
              "      <th>Volume</th>\n",
              "    </tr>\n",
              "  </thead>\n",
              "  <tbody>\n",
              "    <tr>\n",
              "      <th>0</th>\n",
              "      <td>False</td>\n",
              "      <td>False</td>\n",
              "      <td>False</td>\n",
              "      <td>False</td>\n",
              "      <td>False</td>\n",
              "      <td>False</td>\n",
              "      <td>False</td>\n",
              "    </tr>\n",
              "    <tr>\n",
              "      <th>1</th>\n",
              "      <td>False</td>\n",
              "      <td>False</td>\n",
              "      <td>False</td>\n",
              "      <td>False</td>\n",
              "      <td>False</td>\n",
              "      <td>False</td>\n",
              "      <td>False</td>\n",
              "    </tr>\n",
              "    <tr>\n",
              "      <th>2</th>\n",
              "      <td>False</td>\n",
              "      <td>False</td>\n",
              "      <td>False</td>\n",
              "      <td>False</td>\n",
              "      <td>False</td>\n",
              "      <td>False</td>\n",
              "      <td>False</td>\n",
              "    </tr>\n",
              "    <tr>\n",
              "      <th>3</th>\n",
              "      <td>False</td>\n",
              "      <td>False</td>\n",
              "      <td>False</td>\n",
              "      <td>False</td>\n",
              "      <td>False</td>\n",
              "      <td>False</td>\n",
              "      <td>False</td>\n",
              "    </tr>\n",
              "    <tr>\n",
              "      <th>4</th>\n",
              "      <td>False</td>\n",
              "      <td>False</td>\n",
              "      <td>False</td>\n",
              "      <td>False</td>\n",
              "      <td>False</td>\n",
              "      <td>False</td>\n",
              "      <td>False</td>\n",
              "    </tr>\n",
              "    <tr>\n",
              "      <th>...</th>\n",
              "      <td>...</td>\n",
              "      <td>...</td>\n",
              "      <td>...</td>\n",
              "      <td>...</td>\n",
              "      <td>...</td>\n",
              "      <td>...</td>\n",
              "      <td>...</td>\n",
              "    </tr>\n",
              "    <tr>\n",
              "      <th>1721</th>\n",
              "      <td>False</td>\n",
              "      <td>False</td>\n",
              "      <td>False</td>\n",
              "      <td>False</td>\n",
              "      <td>False</td>\n",
              "      <td>False</td>\n",
              "      <td>False</td>\n",
              "    </tr>\n",
              "    <tr>\n",
              "      <th>1722</th>\n",
              "      <td>False</td>\n",
              "      <td>False</td>\n",
              "      <td>False</td>\n",
              "      <td>False</td>\n",
              "      <td>False</td>\n",
              "      <td>False</td>\n",
              "      <td>False</td>\n",
              "    </tr>\n",
              "    <tr>\n",
              "      <th>1723</th>\n",
              "      <td>False</td>\n",
              "      <td>False</td>\n",
              "      <td>False</td>\n",
              "      <td>False</td>\n",
              "      <td>False</td>\n",
              "      <td>False</td>\n",
              "      <td>False</td>\n",
              "    </tr>\n",
              "    <tr>\n",
              "      <th>1724</th>\n",
              "      <td>False</td>\n",
              "      <td>False</td>\n",
              "      <td>False</td>\n",
              "      <td>False</td>\n",
              "      <td>False</td>\n",
              "      <td>False</td>\n",
              "      <td>False</td>\n",
              "    </tr>\n",
              "    <tr>\n",
              "      <th>1725</th>\n",
              "      <td>False</td>\n",
              "      <td>False</td>\n",
              "      <td>False</td>\n",
              "      <td>False</td>\n",
              "      <td>False</td>\n",
              "      <td>False</td>\n",
              "      <td>False</td>\n",
              "    </tr>\n",
              "  </tbody>\n",
              "</table>\n",
              "<p>1726 rows × 7 columns</p>\n",
              "</div>"
            ],
            "text/plain": [
              "      Unnamed: 0   Date   Open   High    Low  Close  Volume\n",
              "0          False  False  False  False  False  False   False\n",
              "1          False  False  False  False  False  False   False\n",
              "2          False  False  False  False  False  False   False\n",
              "3          False  False  False  False  False  False   False\n",
              "4          False  False  False  False  False  False   False\n",
              "...          ...    ...    ...    ...    ...    ...     ...\n",
              "1721       False  False  False  False  False  False   False\n",
              "1722       False  False  False  False  False  False   False\n",
              "1723       False  False  False  False  False  False   False\n",
              "1724       False  False  False  False  False  False   False\n",
              "1725       False  False  False  False  False  False   False\n",
              "\n",
              "[1726 rows x 7 columns]"
            ]
          },
          "execution_count": 9,
          "metadata": {},
          "output_type": "execute_result"
        }
      ],
      "source": [
        "df.isnull()"
      ]
    },
    {
      "cell_type": "code",
      "execution_count": 10,
      "metadata": {
        "id": "OVq9RndO3bjI"
      },
      "outputs": [],
      "source": [
        "#Let's assume the CSV contains columns: \"Date\", \"Open\", \"High\", \"Low\", \"Close\"\n",
        "#Hence converting \"Date\" column to datetime\n",
        "\n",
        "df['Date'] = pd.to_datetime(df['Date'])"
      ]
    },
    {
      "cell_type": "markdown",
      "metadata": {
        "id": "lCT_MYFC7RJ4"
      },
      "source": [
        "Step-3: Plot candlestick chart"
      ]
    },
    {
      "cell_type": "code",
      "execution_count": 11,
      "metadata": {
        "colab": {
          "base_uri": "https://localhost:8080/"
        },
        "id": "D7fIQIjc7isQ",
        "outputId": "594ae76c-e723-4333-cc98-a05bfced22a4"
      },
      "outputs": [
        {
          "name": "stdout",
          "output_type": "stream",
          "text": [
            "              Date    Open    High     Low   Close\n",
            "0     19422.156250  173.55  174.45  173.15  174.35\n",
            "1     19422.159722  174.30  174.50  173.70  174.30\n",
            "2     19422.163194  174.30  174.45  173.55  174.45\n",
            "3     19422.166667  174.45  174.90  174.25  174.80\n",
            "4     19422.170139  174.80  175.20  174.50  175.05\n",
            "...            ...     ...     ...     ...     ...\n",
            "1721  19458.402778  170.70  171.00  170.60  171.00\n",
            "1722  19458.406250  171.00  171.30  170.75  170.90\n",
            "1723  19458.409722  170.85  171.05  170.65  170.90\n",
            "1724  19458.413194  170.85  171.05  170.75  170.75\n",
            "1725  19458.416667  170.80  170.80  170.80  170.80\n",
            "\n",
            "[1726 rows x 5 columns]\n"
          ]
        }
      ],
      "source": [
        "#Convert date to mdates format\n",
        "df['Date'] = df['Date'].apply(mdates.date2num)\n",
        "ohlc = df[['Date', 'Open', 'High', 'Low', 'Close']]\n",
        "print(ohlc)"
      ]
    },
    {
      "cell_type": "code",
      "execution_count": 12,
      "metadata": {
        "id": "hvTwg4gf8H96"
      },
      "outputs": [],
      "source": [
        "#Function to update candlestick chart based on slider value\n",
        "def chart_update(candlestick_width):\n",
        "  plt.figure(figsize=(12,6))\n",
        "  ax = plt.subplot()\n",
        "  ax.xaxis_date()\n",
        "  candlestick_ohlc(ax, ohlc.values, width=candlestick_width, colorup=\"b\", colordown=\"r\")\n",
        "  plt.title('BANK of BARODA - Candlestick Chart')\n",
        "  plt.xlabel('Date')\n",
        "  plt.ylabel('Price')\n",
        "  plt.xticks(rotation=45)\n",
        "  plt.show()"
      ]
    },
    {
      "cell_type": "code",
      "execution_count": 13,
      "metadata": {
        "id": "5Ig7PdtL90IW"
      },
      "outputs": [],
      "source": [
        "# Create slider widget for candlestick width adjustment\n",
        "candlestick_slider = widgets.FloatSlider(min= 0.1, max=1.0, step=0.1, value=0.6, description='Candlestick Width')\n"
      ]
    },
    {
      "cell_type": "code",
      "execution_count": 14,
      "metadata": {
        "colab": {
          "base_uri": "https://localhost:8080/",
          "height": 604
        },
        "id": "2eq3UK9b-mv4",
        "outputId": "5ddc06bd-e310-4127-f1f1-cb1da758e00a"
      },
      "outputs": [
        {
          "data": {
            "image/png": "[encoded data removed]",
            "text/plain": [
              "<Figure size 1200x600 with 1 Axes>"
            ]
          },
          "metadata": {},
          "output_type": "display_data"
        }
      ],
      "source": [
        "#Display the initial chartwith default candlestick width\n",
        "chart_update(candlestick_slider.value)"
      ]
    },
    {
      "cell_type": "code",
      "execution_count": 15,
      "metadata": {
        "colab": {
          "base_uri": "https://localhost:8080/",
          "height": 636,
          "referenced_widgets": [
            "066b88ecd0254bcebbe0d8b9f3c98ddb",
            "d3832cc07b864eb086ded8f4433504b0",
            "b20a0335dc154871ad4b649739756a6d",
            "0d330c8f510646668b36c7311f807a67",
            "986ec9b219cd4f088b7b9d66e704b7e4",
            "fcfa5d3f529749bb823136a27a51c385",
            "972e03509aca4351874602adea8bcad6"
          ]
        },
        "id": "h-AC8I0A_VSk",
        "outputId": "d8f5639d-bcf1-4455-bb7a-02574bdeb8aa"
      },
      "outputs": [
        {
          "data": {
            "application/vnd.jupyter.widget-view+json": {
              "model_id": "9e98e2d281ca4660ab964ff7791a8f27",
              "version_major": 2,
              "version_minor": 0
            },
            "text/plain": [
              "interactive(children=(FloatSlider(value=0.6, description='Candlestick Width', max=1.0, min=0.1), Output()), _d…"
            ]
          },
          "execution_count": 15,
          "metadata": {},
          "output_type": "execute_result"
        }
      ],
      "source": [
        "widgets.interactive(chart_update, candlestick_width = candlestick_slider)"
      ]
    }
  ],
  "metadata": {
    "colab": {
      "provenance": []
    },
    "kernelspec": {
      "display_name": "Python 3",
      "name": "python3"
    },
    "language_info": {
      "codemirror_mode": {
        "name": "ipython",
        "version": 3
      },
      "file_extension": ".py",
      "mimetype": "text/x-python",
      "name": "python",
      "nbconvert_exporter": "python",
      "pygments_lexer": "ipython3",
      "version": "3.11.9"
    },
    "widgets": {
      "application/vnd.jupyter.widget-state+json": {
        "066b88ecd0254bcebbe0d8b9f3c98ddb": {
          "model_module": "@jupyter-widgets/controls",
          "model_module_version": "1.5.0",
          "model_name": "VBoxModel",
          "state": {
            "_dom_classes": [
              "widget-interact"
            ],
            "_model_module": "@jupyter-widgets/controls",
            "_model_module_version": "1.5.0",
            "_model_name": "VBoxModel",
            "_view_count": null,
            "_view_module": "@jupyter-widgets/controls",
            "_view_module_version": "1.5.0",
            "_view_name": "VBoxView",
            "box_style": "",
            "children": [
              "IPY_MODEL_d3832cc07b864eb086ded8f4433504b0",
              "IPY_MODEL_b20a0335dc154871ad4b649739756a6d"
            ],
            "layout": "IPY_MODEL_0d330c8f510646668b36c7311f807a67"
          }
        },
        "0d330c8f510646668b36c7311f807a67": {
          "model_module": "@jupyter-widgets/base",
          "model_module_version": "1.2.0",
          "model_name": "LayoutModel",
          "state": {
            "_model_module": "@jupyter-widgets/base",
            "_model_module_version": "1.2.0",
            "_model_name": "LayoutModel",
            "_view_count": null,
            "_view_module": "@jupyter-widgets/base",
            "_view_module_version": "1.2.0",
            "_view_name": "LayoutView",
            "align_content": null,
            "align_items": null,
            "align_self": null,
            "border": null,
            "bottom": null,
            "display": null,
            "flex": null,
            "flex_flow": null,
            "grid_area": null,
            "grid_auto_columns": null,
            "grid_auto_flow": null,
            "grid_auto_rows": null,
            "grid_column": null,
            "grid_gap": null,
            "grid_row": null,
            "grid_template_areas": null,
            "grid_template_columns": null,
            "grid_template_rows": null,
            "height": null,
            "justify_content": null,
            "justify_items": null,
            "left": null,
            "margin": null,
            "max_height": null,
            "max_width": null,
            "min_height": null,
            "min_width": null,
            "object_fit": null,
            "object_position": null,
            "order": null,
            "overflow": null,
            "overflow_x": null,
            "overflow_y": null,
            "padding": null,
            "right": null,
            "top": null,
            "visibility": null,
            "width": null
          }
        },
        "972e03509aca4351874602adea8bcad6": {
          "model_module": "@jupyter-widgets/base",
          "model_module_version": "1.2.0",
          "model_name": "LayoutModel",
          "state": {
            "_model_module": "@jupyter-widgets/base",
            "_model_module_version": "1.2.0",
            "_model_name": "LayoutModel",
            "_view_count": null,
            "_view_module": "@jupyter-widgets/base",
            "_view_module_version": "1.2.0",
            "_view_name": "LayoutView",
            "align_content": null,
            "align_items": null,
            "align_self": null,
            "border": null,
            "bottom": null,
            "display": null,
            "flex": null,
            "flex_flow": null,
            "grid_area": null,
            "grid_auto_columns": null,
            "grid_auto_flow": null,
            "grid_auto_rows": null,
            "grid_column": null,
            "grid_gap": null,
            "grid_row": null,
            "grid_template_areas": null,
            "grid_template_columns": null,
            "grid_template_rows": null,
            "height": null,
            "justify_content": null,
            "justify_items": null,
            "left": null,
            "margin": null,
            "max_height": null,
            "max_width": null,
            "min_height": null,
            "min_width": null,
            "object_fit": null,
            "object_position": null,
            "order": null,
            "overflow": null,
            "overflow_x": null,
            "overflow_y": null,
            "padding": null,
            "right": null,
            "top": null,
            "visibility": null,
            "width": null
          }
        },
        "986ec9b219cd4f088b7b9d66e704b7e4": {
          "model_module": "@jupyter-widgets/base",
          "model_module_version": "1.2.0",
          "model_name": "LayoutModel",
          "state": {
            "_model_module": "@jupyter-widgets/base",
            "_model_module_version": "1.2.0",
            "_model_name": "LayoutModel",
            "_view_count": null,
            "_view_module": "@jupyter-widgets/base",
            "_view_module_version": "1.2.0",
            "_view_name": "LayoutView",
            "align_content": null,
            "align_items": null,
            "align_self": null,
            "border": null,
            "bottom": null,
            "display": null,
            "flex": null,
            "flex_flow": null,
            "grid_area": null,
            "grid_auto_columns": null,
            "grid_auto_flow": null,
            "grid_auto_rows": null,
            "grid_column": null,
            "grid_gap": null,
            "grid_row": null,
            "grid_template_areas": null,
            "grid_template_columns": null,
            "grid_template_rows": null,
            "height": null,
            "justify_content": null,
            "justify_items": null,
            "left": null,
            "margin": null,
            "max_height": null,
            "max_width": null,
            "min_height": null,
            "min_width": null,
            "object_fit": null,
            "object_position": null,
            "order": null,
            "overflow": null,
            "overflow_x": null,
            "overflow_y": null,
            "padding": null,
            "right": null,
            "top": null,
            "visibility": null,
            "width": null
          }
        },
        "b20a0335dc154871ad4b649739756a6d": {
          "model_module": "@jupyter-widgets/output",
          "model_module_version": "1.0.0",
          "model_name": "OutputModel",
          "state": {
            "_dom_classes": [],
            "_model_module": "@jupyter-widgets/output",
            "_model_module_version": "1.0.0",
            "_model_name": "OutputModel",
            "_view_count": null,
            "_view_module": "@jupyter-widgets/output",
            "_view_module_version": "1.0.0",
            "_view_name": "OutputView",
            "layout": "IPY_MODEL_972e03509aca4351874602adea8bcad6",
            "msg_id": "",
            "outputs": [
              {
                "data": {
                  "image/png": "iVBORw0KGgoAAAANSUhEUgAAA+8AAAJLCAYAAACWgKdpAAAAOXRFWHRTb2Z0d2FyZQBNYXRwbG90bGliIHZlcnNpb24zLjcuMSwgaHR0cHM6Ly9tYXRwbG90bGliLm9yZy/bCgiHAAAACXBIWXMAAA9hAAAPYQGoP6dpAAB0h0lEQVR4nO3dd3hUZd7G8XvSQxotoUmTjkqzYEEFLHQLuCqiK4qioqDosopdV8VeF3GxFxR3174sClJUXllFBEFEBARBSYBQ0nue9w/M0WECJDCHZ87x+7muXJqZyeSeX8Jk7jnnPCdgjDECAAAAAAARK8p2AAAAAAAAsHeUdwAAAAAAIhzlHQAAAACACEd5BwAAAAAgwlHeAQAAAACIcJR3AAAAAAAiHOUdAAAAAIAIR3kHAAAAACDCUd4BAAAAAIhwlHcAgC+Vl5frr3/9q5o3b66oqCidddZZtiMhwgQCAd15553O5y+99JICgYDWr19/UHPMnz9fgUBA8+fPr9XXjRw5UsnJye6E+p3169crEAjo4Ycfdv17AQD2jPIOAD5XVUh+/5GRkaE+ffpo5syZe/y6nTt3KiEhQYFAQCtXrqz2NiNHjlQgEFCXLl1kjAm5PhAI6JprrnE+31MJMMboiiuuCClTB+KFF17QQw89pHPOOUcvv/yyxo8fv8fb9u7dO2g+cXFxat26tUaPHq2NGzfu8euefvppBQIB9ezZc4+32X32qampOvnkkzVjxow9fs2KFSt04YUXqlmzZoqPj1fTpk01YsQIrVixIuS2u/98ExIS1LRpU/Xr109PPvmk8vLy9vh9JOmYY45RIBDQlClT9nq7A1VcXKzHHntMPXv2VFpamhISEtS+fXtdc801+uGHH1z93pHi6aef1ksvvWQ7RpClS5fqwgsvVPPmzRUfH6/69evr1FNP1YsvvqiKigormf773/+G7XkAAPwkxnYAAMDBcffdd6t169Yyxmjz5s166aWXNHDgQH3wwQcaPHhwyO3/9a9/KRAIqHHjxpo2bZruueeePd738uXL9fbbb2vYsGG1zmWM0ZgxYzR16lTddtttYXvRPnfuXDVr1kyPPfZYjW5/yCGHaNKkSZKk0tJSfffdd3rmmWf00UcfaeXKlapTp07I10ybNk2tWrXSl19+qTVr1qht27bV3vdpp52mP//5zzLG6KefftKUKVM0ZMgQzZw5U/369Qu67dtvv63hw4erfv36GjVqlFq3bq3169fr+eef17///W9Nnz5dZ599dsj3qPr5lpWVKSsrS/Pnz9d1112nRx99VO+//766dOkS8jWrV6/WokWL1KpVK02bNk1XXXVVjWZVW9nZ2erfv78WL16swYMH64ILLlBycrJWrVql6dOna+rUqSotLXXle0eSp59+Wg0bNtTIkSODLj/ppJNUVFSkuLi4g5rnueee05VXXqlGjRrpoosuUrt27ZSXl6c5c+Zo1KhRyszM1M0333xQM0m7yvvkyZMp8ACwOwMA8LUXX3zRSDKLFi0Kunz79u0mNjbWXHDBBdV+3UknnWSGDh1qxo8fb1q3bl3tbS6++GKTmJho2rdvb7p06WIqKyuDrpdkrr76aufzdevWGUnmoYceci67+uqrjSRzyy237O9DrFafPn3MYYcdVqPbnnzyydXe9u9//7uRZGbNmhVy3Y8//mgkmbffftukp6ebO++8s9r73n0Gxhjz3XffGUlmwIABQZevWbPG1KlTx3Ts2NFs2bIl6LqtW7eajh07mqSkJLN27Vrn8j39fI0xZs6cOSYxMdG0bNnSFBYWhlx/++23m4yMDPPWW2+ZQCBg1q1bV+1jOFCDBg0yUVFR5t///nfIdcXFxeaGG25w5fvuiyRzxx13OJ9XzdKtORx22GHm5JNPDtv9XXzxxSYpKWm/vnbhwoUmOjra9OrVy+Tm5oZcv2jRIvPiiy8aY6r/d+uG/Px8Y8xvzwkAgGDsNg8Af1B169ZVYmKiYmJCd8LasGGDPvvsM51//vk6//zztW7dOn3++efV3k9UVJRuvfVWLVu2TO+8806tMlx77bWaPHmyJk6cuNct+79XUFCgG264wdnNt0OHDnr44Yed3fards2fN2+eVqxY4exOXtvjiSWpcePGklTtjKZNm6Z69epp0KBBOuecczRt2rQa32+nTp3UsGFDrV27Nujyhx56SIWFhZo6darS09ODrmvYsKH+8Y9/qKCgQA8++GCNvk/fvn1122236aefftJrr70Wcv3rr7+uc845R4MHD1ZaWppef/31Gj+Gmvriiy80Y8YMjRo1qto9M+Lj44MOo1i2bJlGjhypQw89VAkJCWrcuLEuvfRSbdu2Lejr7rzzTgUCAa1Zs0YjR45U3bp1lZaWpksuuUSFhYVBty0pKdH48eOVnp6ulJQUnXHGGfr5559r/BhmzpypE088UUlJSUpJSdGgQYNCDmHIysrSJZdcokMOOUTx8fFq0qSJzjzzTOf4+VatWmnFihX65JNPnN/J3r17S9rzMe9ffPGFBg4cqHr16ikpKUldunTRE088sdesS5cuVXp6unr37q38/Pw93u6uu+5SIBDQtGnTlJKSEnL9UUcdFbKHgCRNnTpVbdq0UXx8vI4++mgtWrQo6Pra/vy+++47XXDBBapXr5569eqlkSNHavLkyZKCDzkBALDbPAD8YeTk5Cg7O1vGGG3ZskVPPfWU8vPzdeGFF4bc9o033lBSUpIGDx6sxMREtWnTRtOmTdPxxx9f7X1fcMEF+tvf/qa7775bZ599do1ebI8fP15PPvmkbrzxRt133301egzGGJ1xxhmaN2+eRo0apW7duumjjz7ShAkT9Msvv+ixxx5Tenq6Xn31Vd17773Kz893doXv1KnTXu+7oqJC2dnZkqSysjKtXLlSd9xxh9q2basTTjgh5PbTpk3T0KFDFRcXp+HDh2vKlClatGiRjj766H0+jpycHO3YsUNt2rQJuvyDDz5Qq1atdOKJJ1b7dSeddJJatWq11+Pld3fRRRfp5ptv1qxZs3T55Zc7l3/xxRdas2aNXnzxRcXFxWno0KGaNm1a2HeTfv/9950cNTF79mz9+OOPuuSSS9S4cWOtWLFCU6dO1YoVK/S///0v5Hfr3HPPVevWrTVp0iR9/fXXeu6555SRkaEHHnjAuc1ll12m1157TRdccIGOP/54zZ07V4MGDapRnldffVUXX3yx+vXrpwceeECFhYWaMmWKevXqpSVLlqhVq1aSpGHDhmnFihUaO3asWrVqpS1btmj27NnasGGDWrVqpccff1xjx45VcnKybrnlFklSo0aN9jqHwYMHq0mTJrr22mvVuHFjrVy5Uv/5z3907bXXVvs1ixYtUr9+/XTUUUfpvffeU2JiYrW3Kyws1Jw5c3TSSSepRYsWNZqDtOvNnry8PGd9igcffFBDhw7Vjz/+qNjYWCd3bX5+f/rTn9SuXTvdd999Msaoe/fu2rRpk2bPnq1XX321xtkA4A/B7oZ/AIDbqnYF3v0jPj7evPTSS9V+zRFHHGFGjBjhfH7zzTebhg0bmrKysqDb/X633ZdfftnZjbyK9rDbfMuWLY0kM2HChFo9lnfffddIMvfcc0/Q5eecc44JBAJmzZo1zmV72hW+OieffHK1M+rUqZP58ccfQ27/1VdfGUlm9uzZxhhjKisrzSGHHGKuvfbakNtKMqNGjTJbt241W7ZsMV999ZXp379/yG7IO3fuNJLMmWeeudesZ5xxhpHk7Oq8t93mq6SlpZnu3bsHXXbNNdeY5s2bO4c6zJo1y0gyS5Ys2ev3r62zzz7bSDI7duyo0e2r273/jTfeMJLMp59+6lx2xx13GEnm0ksvDfl+DRo0cD5funSpkWTGjBkTdLsLLrhgn7vN5+Xlmbp165rLL7886GuzsrJMWlqac/mOHTtqtFv5nnabnzdvnpFk5s2bZ4wxpry83LRu3dq0bNkyZG6/PzTl9//+FixYYFJTU82gQYNMcXHxXnN88803RlK1v6/Vqfp326BBA7N9+3bn8vfee89IMh988IFzWW1/fsOHDw+5PbvNA0D12G0eAP4gJk+erNmzZ2v27Nl67bXX1KdPH1122WV6++23g263bNkyLV++XMOHD3cuGz58uLKzs/XRRx/t8f5HjBihdu3a6e6776525fnf27x5sySpffv2tXoM//3vfxUdHa1x48YFXX7DDTfIGLPX1fP3pVWrVs58Zs6cqccff1w5OTkaMGCAtm7dGnTbadOmqVGjRurTp4+kXbv3nnfeeZo+fXq1K3Q///zzSk9PV0ZGho466ijNmTNHf/3rX3X99dc7t6laFb66XZh/r+r63NzcGj+25OTkoFXny8vL9eabb+q8885ztoT27dtXGRkZtdr9vyaqcu7rcVX5/dbi4uJiZWdn69hjj5Ukff311yG3v/LKK4M+P/HEE7Vt2zbn+/73v/+VpJDfmeuuu26fWWbPnq2dO3c6v/9VH9HR0erZs6fmzZvnZI6Li9P8+fO1Y8eOGj3OvVmyZInWrVun6667TnXr1g26rrq9WubNm6d+/frplFNO0dtvv634+Pi93n9tfyZVzjvvPNWrV8/5vGoPkR9//NG57EB/fgCAPaO8A8AfxDHHHKNTTz1Vp556qkaMGKEZM2aoc+fOuuaaa4JW+n7ttdeUlJSkQw89VGvWrNGaNWuUkJDgrEi+J9HR0br11lu1dOlSvfvuu3vNcuONN+roo4/WFVdcoX//+981fgw//fSTmjZtGlI6qnaJ/+mnn2p8X7tLSkpy5tO/f39de+21ev/997Vq1Srdf//9zu0qKio0ffp09enTR+vWrXNm1LNnT23evFlz5swJue8zzzxTs2fP1owZM5xjfQsLCxUV9duf4arHtK9Tu9W05P9efn5+0O1nzZqlrVu36phjjnHyr1u3Tn369NEbb7yhysrKvd5fVlZW0EdRUdEeb5uamhqUe1+2b9+ua6+9Vo0aNVJiYqLS09PVunVrSbsON9jd7rt9V5XLqhL9008/KSoqKuQQhQ4dOuwzy+rVqyXtemMjPT096GPWrFnasmWLpF3H7T/wwAOaOXOmGjVqpJNOOkkPPvigsrKyavSYd1e1FsLhhx++z9sWFxdr0KBB6t69u/75z3/WaMX62v5Mquxr1lLtf35V1wEA9o1j3gHgDyoqKkp9+vTRE088odWrV+uwww6TMUZvvPGGCgoK1Llz55Cv2bJli/Lz85WcnFztfY4YMcI59v2ss87a4/dOTk7WzJkzddJJJ2nEiBFKTU3V6aefHq6HFjZHHnmk0tLS9OmnnzqXzZ07V5mZmZo+fbqmT58e8jXTpk0LeSyHHHKITj31VEnSwIED1bBhQ11zzTXq06ePhg4dKklKS0tTkyZNtGzZsr1mWrZsmZo1a+YUsH35+eeflZOTE3Qau6o3Yc4999xqv+aTTz5x9iqoTpMmTYI+f/HFF6td3EySOnbsKGnX6QT3dCz/75177rn6/PPPNWHCBHXr1k3JycmqrKxU//79q31TITo6utr72dfeHzVR9f1effVVZ/HC3/v9QobXXXedhgwZonfffVcfffSRbrvtNk2aNElz585V9+7dDzjLnsTHx2vgwIF677339OGHH1Z72sfdtW3bVjExMVq+fHmtvldNZl3bn9+ejssHAISivAPAH1h5ebkkOatSf/LJJ/r555919913hyzwtmPHDo0ePVrvvvtutYvcSb9tfR85cqTee++9vX7vBg0aaNasWTrhhBM0dOhQzZ49W8cdd9xev6Zly5b6+OOPlZeXF7Ql+fvvv3euD7eKioqgVbunTZumjIwMZ0Xs33v77bf1zjvv6JlnntlrKbniiiv02GOP6dZbbw1a4G/w4MF69tlntWDBAvXq1Svk6z777DOtX79eV1xxRY3zVy36VXU++YKCAr333ns677zzdM4554Tcfty4cZo2bdpey/vs2bODPj/ssMP2eNshQ4Zo0qRJeu211/ZZ3nfs2KE5c+borrvu0u233+5cXrUFfH+0bNlSlZWVWrt2bdDW9lWrVu3za6u21mdkZDhvvuzr9jfccINuuOEGrV69Wt26ddMjjzzirPRf01XTq77vt99+u8/vW7Vi/Jlnnqk//elPmjlzprOK/Z7UqVNHffv21dy5c7Vx40Y1b968Rrn2JVw/P1aXB4Dqsds8APxBlZWVadasWYqLi3OKetUu8xMmTNA555wT9HH55ZerXbt2+zwm+sILL1Tbtm1111137TNDs2bNNHv2bCUlJWnQoEH73BI4cOBAVVRU6O9//3vQ5Y899pgCgYAGDBiwz+9ZG/PmzVN+fr66du0qSSoqKtLbb7+twYMHh8znnHPO0TXXXKO8vDxnhfU9iYmJ0Q033KCVK1cGvckxYcIEJSYm6oorrgg5tdb27dt15ZVXqk6dOpowYUKN8s+dO1d/+9vf1Lp1a40YMUKS9M4776igoEBXX311tY9h8ODBeuutt1RSUrLH+606vKDqY/ct8b933HHHqX///nruueeqPZyitLRUf/nLXyT9tmV3963mjz/+eI0eb3WqfieefPLJWt9nv379lJqaqvvuu09lZWUh11ethVBYWKji4uKg69q0aaOUlJSgOSYlJWnnzp37/L49evRQ69at9fjjj4fcvro9CuLi4vT222/r6KOP1pAhQ/Tll1/u83vccccdMsbooosuqvaUcosXL9bLL7+8z/v5vXD9/JKSkiSpRrMCgD8StrwDwB/EzJkznS3UW7Zs0euvv67Vq1frpptuUmpqqkpKSvTWW2/ptNNOU0JCQrX3ccYZZ+iJJ57Qli1blJGRUe1toqOjdcstt+iSSy6pUa527drpo48+Uu/evdWvXz8tWLBAhx56aLW3HTJkiPr06aNbbrlF69evV9euXTVr1iy99957uu6660KOa66NnJwcZwtpeXm5Vq1apSlTpigxMVE33XSTpF2nPcvLy9MZZ5xR7X0ce+yxSk9P17Rp03Teeeft9fuNHDlSt99+ux544AHnEIN27drp5Zdf1ogRI3TEEUdo1KhRat26tdavX6/nn39e2dnZeuONN6p9nFU/3/Lycm3evFlz587V7Nmz1bJlS73//vvOz3TatGlq0KDBHk/7d8YZZ+jZZ5/VjBkznF36D9Qrr7yi008/XUOHDtWQIUN0yimnKCkpSatXr9b06dOVmZmphx9+WKmpqc7x4mVlZWrWrJlmzZqldevW7ff37tatm4YPH66nn35aOTk5Ov744zVnzhytWbNmn1+bmpqqKVOm6KKLLlKPHj10/vnnKz09XRs2bNCMGTN0wgkn6O9//7t++OEHnXLKKTr33HPVuXNnxcTE6J133tHmzZt1/vnnO/d35JFHasqUKbrnnnvUtm1bZWRkqG/fviHfNyoqSlOmTNGQIUPUrVs3XXLJJWrSpIm+//57rVixotqFIxMTE/Wf//xHffv21YABA/TJJ5/s9Zj5448/XpMnT9aYMWPUsWNHXXTRRWrXrp3y8vI0f/58vf/++7rnnntqOOXf5hWOn9+RRx4paddeIP369VN0dHTQHAHgD8vaOvcAgIOiulPFJSQkmG7dupkpU6Y4p5566623jCTz/PPP7/G+5s+fbySZJ554whgTfKqq3ysrKzNt2rTZ46niqjul1meffWYSExNN69atzS+//LLHDHl5eWb8+PGmadOmJjY21rRr18489NBDQafQMubAThUXCARM/fr1zRlnnGEWL17s3G7IkCEmISHBFBQU7PG+Ro4caWJjY012drYxJvR0eb935513Bp0irMqyZcvM8OHDTZMmTUxsbKxp3LixGT58uFm+fHnIfez+842LizONGzc2p512mnniiSecU8oZY8zmzZtNTEyMueiii/aYv7Cw0NSpU8ecffbZe7zN/igsLDQPP/ywOfroo01ycrKJi4sz7dq1M2PHjg06xd/PP/9szj77bFO3bl2TlpZm/vSnP5lNmzaFnNat6lRjW7duDfo+u5/uzRhjioqKzLhx40yDBg1MUlKSGTJkiNm4ceM+TxVXZd68eaZfv34mLS3NJCQkmDZt2piRI0ear776yhhjTHZ2trn66qtNx44dTVJSkklLSzM9e/Y0//znP4PuJysrywwaNMikpKQYSc5p43Y/VVyVBQsWmNNOO82kpKSYpKQk06VLF/PUU08511f37y87O9t07tzZNG7c2KxevXpvPxJjjDGLFy82F1xwgfPvqV69euaUU04xL7/8sqmoqDDG7P3f7e4zPNCfnzG7TpU3duxYk56ebgKBAKeNA4BfBYwJw4ouAAAAAADANRzzDgAAAABAhKO8AwAAAAAQ4SjvAAAAAABEOMo7AAAAAAARjvIOAAAAAECEo7wDAAAAABDhYmwHiASVlZXatGmTUlJSFAgEbMcBAAAAAPicMUZ5eXlq2rSpoqL2vV2d8i5p06ZNat68ue0YAAAAAIA/mI0bN+qQQw7Z5+0o75JSUlIk7Rpaamqq5TQAAAAAAL/Lzc1V8+bNnT66L5R3ydlVPjU1lfIOAAAAADhoanroNgvWAQAAAAAQ4SjvAAAAAABEOMo7AAAAAAARjvIOAAAAAECEo7wDAAAAABDhKO8AAAAAAEQ4yjsAAAAAABGO8g4AAAAAQISjvAMAAAAAEOEo7wAAAAAARDjKOwAAAAAAEY7yDgAAAABAhKO8AwAAAAAQ4SjvAAAAAABEOMo7AAAAAAARjvIOAAAAAECEo7wDAAAAABDhKO8AAAAAAEQ4yjsAADggV11lOwEAAP5HeQcAAAfkl19sJwAAwP8o7wAA4IAsW2Y7AQAA/kd5BwAAB6S42HYCAAD8L8Z2ANTOhg1SdrbtFAAA/KasTPr6a9spAAD4TcOGUosWtlOEF+XdQzZskE5pt0EppbR3AEDkuE//0GVHXmE7BgAAjry4hpqzuoWvCjzl3UNylm/QstIOShT7JwIAIscMDdTXOtJ2DAAAHEWlCVqzfJWvNr9zzLuHxOzMprgDACKOUcB2BAAAgiSqWDE7/bXHMuUdAAAckMO13HYEAAB8j/LuIYHSEhnbIQAA2A17hQEAIo3Rrv7kJ5R3DzG5ueyYCACIOJW8nAAARJiAdvUnP+GvLQAAOCBrdajtCAAA+B7l3UPK0tJtRwAAIEQ7rbEdAQCAEH7rT5R3D0nMybQdAQCAEHW103YEAABC+K0/Ud49JC3NdgIAAAAA8Aa/9SfKu4cYI1abBwBEnP+pp+0IAAAEMdrVn/yE8u4hP63IZ7V5AEDEiVal7QgAAAQJaFd/8hPKu4cUbM6zHQEAgGr4bNMGAMAX/NafKO8eUpFbaDsCAAAhCpRkOwIAACH81p8o7x5SmldsOwIAACESxd8nAEDk8Vt/orx7SGExR7wDACJPFMe8AwAikN/6E+XdQ+KaNLQdAQAAAAA8wW/9ifLuIY1b17EdAQCAEIXi7xMAIPL4rT9R3gEAwAHppO9sRwAAwPeslvdPP/1UQ4YMUdOmTRUIBPTuu+8GXR8IBKr9eOihh5zbtGrVKuT6+++//yA/koOjIjnNdgQAAEIkqcB2BAAAQvitP1kt7wUFBeratasmT55c7fWZmZlBHy+88IICgYCGDRsWdLu777476HZjx449GPEPunot0ziTLgAAAADsg9Gu/uQnMTa/+YABAzRgwIA9Xt+4ceOgz9977z316dNHhx56aNDlKSkpIbf1IxMXL3+tlwgA8IMo3loGAESYgHb1Jz/xzDHvmzdv1owZMzRq1KiQ6+6//341aNBA3bt310MPPaTy8vK93ldJSYlyc3ODPrygrMx2AgAAQpUqznYEAABC+K0/Wd3yXhsvv/yyUlJSNHTo0KDLx40bpx49eqh+/fr6/PPPNXHiRGVmZurRRx/d431NmjRJd911l9uRwy421nYCAABClchfWzYAAP7gt/7kmfL+wgsvaMSIEUpISAi6/Prrr3f+v0uXLoqLi9MVV1yhSZMmKT6++hcTEydODPq63NxcNW/e3J3gAAD43FWaov9oiO0YAAD4mifK+2effaZVq1bpzTff3Odte/bsqfLycq1fv14dOnSo9jbx8fF7LPYAAKB2lqqr7QgAAPieJ455f/7553XkkUeqa9d9vzhYunSpoqKilJGRcRCSAQCAUnabBwDAdVa3vOfn52vNmjXO5+vWrdPSpUtVv359tWjRQtKuXdr/9a9/6ZFHHgn5+oULF+qLL75Qnz59lJKSooULF2r8+PG68MILVa9evYP2OA4Wvy24AADwh1yl2o4AAEAIv/Unq+X9q6++Up8+fZzPq45Dv/jii/XSSy9JkqZPny5jjIYPHx7y9fHx8Zo+fbruvPNOlZSUqHXr1ho/fnzQ8ex+kpiTKSNxujgAQERJVJHtCAAABDHa1Z/8JGCM+cOfnDU3N1dpaWnKyclRamrkbj344cwb1Pb9R71xrAMA4A/jQr2i1/Rn2zEAAHBUSlpzxvVq/17oHtyRorY91BML1mGX9cvylKoMFSnRdhQAABzZaqh1amk7BgAAjkQVaf2yPLW3HSSMKO8eUrKjQBnawpZ3AEBEGaHX1Vo/2Y4BAICjUrv6k5/QAz0kvXIrPzAAQMRJ1xbbEQAACBKlXf3JT+iCHrIjkGY7AgAAAAB4gt/6E+XdQ0qjEmxHAAAgRLQqbUcAACCE3/oT5d1DYqN5cQQAiDypyrUdAQCAEH7rT5R3D8murG87AgAAIVppve0IAACE8Ft/orx7SGxZoe0IAACEiFOp7QgAAITwW3+ivHtInegS2xEAAAhRwcsJAEAE8lt/4jzvHpIflaZMNVammtiOAgCAY5saqIG22Y4BAICjiTKVH+Wv1eYp7x6SpAJN1eV6T2fZjgIAgONe3aLL9JztGAAAOM7Uu+qqDbZjhBXl3UO2l9TRjXpQd+hvtqMAAODYoOb6WkfajgEAgKNY8Xq95FLbMcKKg9Q85Gc1tx0BAIAQ8Sq2HQEAgBB+60+Udw8pjUmwHQEAgBAB2wEAAKiG3/oT5d1DGifkKEH+WjERAOB90Sq3HQEAgCAJKlHjhBzbMcKK8u4hhzbw1y8fAMAfShVvOwIAACH81p8o7x5SFJNqOwIAACE26hDbEQAACOG3/kR595Cc0kQZ2yEAANhNJ620HQEAgCBGu/qTn1DePSS3IolFgQAAEadASbYjAAAQJKBd/clPKO8eEl1caDsCAAAhOOYdABCJ/NafKO8eElWcbzsCAADV4KAuAEDk8Vt/orx7SIOiX3h5BACION+ps+0IAAAEMdrVn/yE8u4hgdhojnkHAEScKFXajgAAQJCAdvUnP6G8e0hpnXq2IwAAEKKSlxMAgAjkt/7EX1sP2ZnDdncAAAAAqAm/9SfKu4ckl2TbjgAAAAAAnuC3/kR595Bk5bNgHQAg4nTWStsRAAAIYrSrP/kJ5d1D1qk1C9YBAAAAwD4EtKs/+Qnl3UOiKsttRwAAIEQlby0DACKQ3/oT5d1DyhVjOwIAACHqqMh2BAAAQvitP/nr0fhcSSBOv6iJcpVqOwoAAI5cpWmb6tuOAQCAI1W5KgnE2Y4RVpR3L6koUwNtVzNl2k4CAIAjU43VRFm2YwAA4ChWvFRRZjtGWLHbvIc0VLYSVGI7BgAAQeJUajsCAABBElSihvLXqeLY8u4hzfWLspShIiXajgIAgGOrMpSrFNsxAABwJKpIzfWL7RhhRXn3kCgZNdIW1vQFAESUGFWouX62HQMAAIfRrv7kJ+w27yEV0QkUdwBAxInjkC4AQIQJaFd/8hPKu4ewyjwAIBKtV2vbEQAACOG3/kR595ASxduOAABAiBbaYDsCAAAh/NafKO8eEl3BbokAgMjDbvMAgEjkt/5EefeQuJgK2xEAAAiRphzbEQAACOG3/kR595CUenG2IwAAEOIaTbYdAQCAEH7rT5R3Dykrt50AAIBQP6mF7QgAAITwW3+ivHsKJ4oDAESeaFXajgAAQDX81Z8o7x6SVD/WdgQAAEIEZGxHAAAghN/6E+XdQwoDybYjAAAQ4ipNsR0BAIAQfutPlHcPic3bYTsCAAAhGmib7QgAAITwW3+KsR0ANRddkKMNaq5sNbQdBQAAR7li9LW6244BAICjobIVXeCvU5lS3j0kK6a5rtN9Sla+7SgAADgmaaLG6inbMQAAcOQrWTfF+OuwLsq7hzRuJC3b2UUJKrEdBQAAxwY119c60nYMAAAcxYrX3EZX2Y4RVhzz7iHl23Mp7gCAiBPH3yYAQIRJUInKt+fajhFWlHcPyS5KtB0BAAAAADzBb/2J8u4hgVh/nacQAAAAANzit/5EefeQOnVjZWyHAABgNyVKsB0BAIAgRrv6k59Q3j0kEB+vgO0QAADsZrkOtx0BAIAgAe3qT35CefeQxNKdtiMAABAiRuW2IwAAEMJv/Yny7iHRFaW2IwAAAACAJ/itP1HevaSCI94BAAAAoEZ81p8o716SVMd2AgAAQjylsbYjAAAQymf9KcZ2ANRcSlyJflET5SrVdhQAABxX6h9aqQ62YwAA4EhVrlLiSmzHCCvKu4eUlkoNtF3NlGk7CgAAjlylqZNW2Y4BAICjWPH63l+HvLPbvJfkxqcrQf569wgA4H3lbAsAAESYBJUoNz7ddoyworwDAIAD4q/lgAAAiEyUdw8pyS22HQEAAAAAPMFv/Yny7iEVpWzbAABEnjb60XYEAABC+K0/cZCah5i4GP2k5tqmhrajAADgeErXaKz+bjsGAACOBsqWifNX3fXXo/G5tSnddbcuUbLybUcBAMBxj27VZXrOdgwAABz5StaIlKW2Y4QV5d1DGuxYq290sRLlr2M3AADe9oWO0dc60nYMAAAcRUrQ8ztutx0jrDjm3UOSC7dQ3AEAEadUsbYjAAAQJFHFSi7cYjtGWFHePaQspo7tCAAAhGiv1bYjAAAQwm/9ifLuIZUxcbYjAAAQIk05tiMAABDCb/2J8u4hySbXdgQAAELkKsV2BAAAQvitP1HePSQ+3nYCAABCGQVsRwAAIITf+hPl3UMK6je3HQEAgBBUdwBAJPJbf+JUcR5Sr1Wa5n3dS9uUYTsKAACOZOUrX8m2YwAA4GigLarXKs12jLCivHvIltU5Ol2LlKAS21EAAHD8n45Xf82yHQMAAEex4vXa6mG2Y4QV5d1L8vK0RRnKVkPbSQAAcFQqSl+ru+0YAAA4GipbysuzHSOsKO8esjahk07Rx0pRvu0oAAA4ntQ4XabnbMcAAMCRp2Sdk7DMdoyworx7SFFOmT5SP+1UPdtRAABwFCpRz+ky2zEAAHDU1Q49mXOf7RhhRXn3kNTt6/SKLtZdutN2FAAAHJ/qRB2pr23HAADAcYfuVOr2dbZjhBXl3UNyy5M0Ts/qDL1vOwoAAI61aqPF6mE7BgAAjrraoSfLr7MdI6wo7x4SFS31rpivhtpmOwoAAI4l6q7uWmI7BgAAjmw10DnR79qOEVaUdw9Jj9mhrNJG2qiWtqMAAPA7RkvY8g4AiCCxKlZ6zA7bMcIqynYA1FxpdB1+YACAiJOgItsRAAAIEqVd/clP2PLuIRWBaC1TF+Ur2XYUAAAcd+t23a67bccAAMCRrHy9FrjCdoyworx7SFGdhjo192M1VLbtKAAAOB7XtZznHQAQUbLVUOfVmWc7RlhR3j0kI6lAW5WujWphOwoAAEE45h0AEEkSVKSMpALbMcKK8u4hzTNK9M3aruw2DwCIKJuVwaniAAARJVn5+jrjKtsxwory7iHtB3bQqQvZbR4AEFlu113sNg8AiCjZaqh3B35rO0ZYUd69JCVFG9WC3eYBABFlsq5ht3kAQORJ+cl2grDizGMeUpKaroAqbMcAACBIhaJtRwAAIEhAFSpJTbcdI6ysbnn/9NNP9dBDD2nx4sXKzMzUO++8o7POOsu5PhAIVPt1Dz74oCZMmCBJ2r59u8aOHasPPvhAUVFRGjZsmJ544gklJ/vvuPDk3F/0vc7gmHcAQES5R7dwzDsAIKIkK18luVMkdbQdJWyslveCggJ17dpVl156qYYOHRpyfWZmZtDnM2fO1KhRozRs2DDnshEjRigzM1OzZ89WWVmZLrnkEo0ePVqvv/666/kPtpi8nWqv1bZjAAAQ5EY9oB5aYjsGAABBVubttB0hrKyW9wEDBmjAgAF7vL5x48ZBn7/33nvq06ePDj30UEnSypUr9eGHH2rRokU66qijJElPPfWUBg4cqIcfflhNmzZ1LzwAAAAAAAeJZ45537x5s2bMmKFRo0Y5ly1cuFB169Z1irsknXrqqYqKitIXX3yxx/sqKSlRbm5u0AcAAAAAAJHKM+X95ZdfVkpKStDu9VlZWcrIyAi6XUxMjOrXr6+srKw93tekSZOUlpbmfDRv3ty13AAA+F1TbbIdAQAA3/NMeX/hhRc0YsQIJSQkHPB9TZw4UTk5Oc7Hxo0bw5AQAIA/pjiV2Y4AAIDveeI875999plWrVqlN998M+jyxo0ba8uWLUGXlZeXa/v27SHHy/9efHy84uPjXcnqpuydnIoHABB5olVuOwIAACH81p88seX9+eef15FHHqmuXbsGXX7cccdp586dWrx4sXPZ3LlzVVlZqZ49ex7smK7LK/TXLx8AwB+qP7ErAAB2+a0/Wd3ynp+frzVr1jifr1u3TkuXLlX9+vXVokULSVJubq7+9a9/6ZFHHgn5+k6dOql///66/PLL9cwzz6isrEzXXHONzj//fF+uNB+Tt8N2BAAAQiSpwHYEAABC+K0/Wd3y/tVXX6l79+7q3r27JOn6669X9+7ddfvttzu3mT59uowxGj58eLX3MW3aNHXs2FGnnHKKBg4cqF69emnq1KkHJf/BFl1caDsCAAAholRpOwIAACH81p+sbnnv3bu3jDF7vc3o0aM1evToPV5fv359vf766+GOBgAAamiFDlN3LbUdAwAAX/PEMe8AACByNeFUcQAAuM4Tq81jl/y8cv2sJspTqu0oAAA4GmmzVqqD7RgAADhSlKv8PH+dDYXy7iH5ORVqqG06RJm2owAA4NiqhuqkVbZjAADgKFac8nMqbMcIK3ab95Don9crQaW2YwAAEGSjDrEdAQCAIAkqVfTP623HCCvKu4ekFW2xHQEAgBDb1NB2BAAAQvitP1HePSRQkGc7AgAAIY7X57YjAAAQwm/9ifLuIZXlnEcXABB5YlVmOwIAACH81p8o7x6SW55oOwIAACEKlGQ7AgAAIfzWnyjvHhLFYnUAgAhUpljbEQAACOG3/kR595Ac1bMdAQCAEMZ2AAAAquG3/kR595Ai1bEdAQCAECt0uO0IAACE8Ft/irEdADUXq1L9oibKVartKAAAOB7VeDXRJtsxAABwpCpXsT7bbZ7y7iH5SlaBknz3DhIAwNuu0FT+NgEAIkq0KpSvZNsxwory7iE7VE+DNUPJyrcdBQAAx2SN0WV6znYMAAAc+UrWOXrDdoyworx7SKWkb9RViSq2HQUAAMf/1FNf60jbMQAAcBQpQXfpJtsxwooF6zwkSUUUdwBAxAmw3jwAIMIkqlhJKrIdI6wo7x7CiyMAQCRqpfW2IwAAEMJv/Yny7iHp2mo7AgAAIeJ8tpovAMAf/NafKO8eEqNy2xEAAAhRqjjbEQAACOG3/kR595AiJdqOAABAiFVqbzsCAAAh/NafKO8eUk87bUcAACBEwHYAAACq4bf+RHn3kFyl2o4AAEAIjnkHAEQiv/UnyruH5CvFdgQAAEK00jrbEQAACOG3/kR595CogL9OdQAAAAAAbvFbf4qxHQA1F1BAm5Wu7apvOwoAAI5Naqbt+sV2DAAAHPW1XQGfrcpCefeQFJOj+tqhRj47XyEAwNuyla5OWmU7BgAAjjLFKMXk2I4RVuw27yGlilesz85VCADwvoAqbUcAACBIrMpVqnjbMcKK8u4hhUqwHQEAgBCVirYdAQCAEH7rT5R3Dyn22S8fAMAfClTHdgQAAEL4rT9R3j2EnRIBAJHJXwsCAQD8wW/9ifLuIRnaZjsCAAAhKthtHgAQgfzWnyjvHsJidQCASPS0xtiOAABACL/1J8q7hxT6bLVEAIA/lCnWdgQAAEL4rT9R3j2kQEm2IwAAEGKVOtiOAABACL/1pxjbAVBzqcrVL2qiXKXajgIAgKOhsrWSAg8AiCCpylWqcm3HCCvKu8c00DY1U6btGAAAOBpomzpple0YAAA4ihVnO0LYsdu8h5QqVvEqtR0DAIAgq9TedgQAAILEq1SlPluThfLuIY21mTPpAgAiToGSbUcAACBIQLv6k59Q3j0kSXm2IwAAECJaFbYjAAAQwm/9ifLuITvUQJVsewcARJgf2G0eABBhKhXQDjWwHSOsWLDOQzLVWJvVSJlqYjsKAACOTlqpr9XddgwAABxNlKlMNbYdI6wo7x5SRwX6jwZqnvrajgIAgGOyrtHDusF2DAAAHH00V3VUYDtGWFHePaSZftZQzdDlesF2FAAAHNtUX6/rQtsxAABwGElva5DtGGHFMe8eEq8SjngHAEQcv23ZAAB4X0C7+pOfUN49JEd1bUcAACBEuc/OowsA8Ae/9SfKu4dk+WzBBQCAP+xUmu0IAACE8Ft/orx7SAzn0QUARCDDywkAQATyW3/ir62HVPLjAgBEoBXqbDsCAAAh/Naf/PVofC5BRbYjAAAQ4jB9ZzsCAAAh/NafKO8eEqsKGdshAADYjd9eHAEAvM9oV3/yE8q7h5QonlPFAQAiTqrybEcAACBIQLv6k59Q3j0kV6m2IwAAEMLw1jIAIAL5rT9R3j2kVDHsNg8AiDhFSrQdAQCAIEa7+pOfUN49hW0bAIDIk69k2xEAAAiyqzf5a9Mn5d1DWmmD7QgAAIT4Xh1tRwAAIITf+hPl3UOaaZPtCAAAhEhVju0IAACE8Ft/orx7yGY1sh0BAIAQHNIFAIhEfutPlHcPWafWtiMAABAi4LNjCgEA/uC3/kR59xAWBAIARKLGyrIdAQCAEH7rT5R3D0nXVtsRAAAIsUKH2Y4AAEAIv/WnAyrvpaWlWrVqlcrLy8OVB3sRUKXtCAAAhHhdF9iOAABACL/1p/0q74WFhRo1apTq1Kmjww47TBs27FqCf+zYsbr//vvDGhC/qVCM7QgAAITYonTbEQAACOG3/rRf5X3ixIn65ptvNH/+fCUkJDiXn3rqqXrzzTfDFg7ByhVtOwIAANVgvXkAQOTxW3/ar7ci3n33Xb355ps69thjFQj89gf7sMMO09q1a8MWDsH89s4RAAAAALjFb/1pv7a8b926VRkZGSGXFxQUBJV5hFeZYlSseNsxAAAAACCiFSteZT4r7/v1aI466ijNmDFDY8eOlSSnsD/33HM67rjjwpcOQQIy+krd9ZPPzlcIAPC+aRpuOwIAAI6WWqeAjO0YYbVf5f2+++7TgAED9N1336m8vFxPPPGEvvvuO33++ef65JNPwp0RvypRvHrrM9/t/gEA8LZGytKFet12DAAAHNEq1wTdZztGWO3XbvO9evXS0qVLVV5eriOOOEKzZs1SRkaGFi5cqCOPPDLcGfGrLDWhuAMAIk7lgZ15FgCAsKtQjLLUxHaMsNrvJtimTRs9++yz4cyCfYhTie0IAACESFCx7QgAAITwW3/ar7fK//vf/+qjjz4Kufyjjz7SzJkzDzgUqldHRbYjAAAQopO+sx0BAIAQfutP+1Xeb7rpJlVUVIRcbozRTTfddMChUL0olduOAABAiCLVsR0BAIAQfutP+1XeV69erc6dO4dc3rFjR61Zs+aAQ6F6acpRgs/ePQIAeB/HvAMAIk2CipSmHNsxwmq/jnlPS0vTjz/+qFatWgVdvmbNGiUlJYUjF6qRplx9oy7KV4rtKAAAOG7WvVqsHrZjAADgSFaeZuo02zHCar/K+5lnnqnrrrtO77zzjtq0aSNpV3G/4YYbdMYZZ4Q1IH4TowolqUAVirYdBQAAR4GSlahC2zEAAHAkqUAxCj3U28v2q7w/+OCD6t+/vzp27KhDDjlEkvTzzz/rxBNP1MMPPxzWgPhNvpJVXzvUTJm2owAA4EhRrjpple0YAAA4ipSgfCXbjhFW+73b/Oeff67Zs2frm2++UWJiorp06aKTTjop3PnwO9lqqA5apYbKth0FAABHI21WDy22HQMAAEe2Guo8TbMdI6z2+zzvgUBAp59+uk4//fRw5sFeVCqgjWqhjWphOwoAAI5++lBLOOYdABBhKhWwHSGsalzen3zySY0ePVoJCQl68skn93rbcePGHXAwhCpVvO0IAACEYC0WAEAk8lt/qnF5f+yxxzRixAglJCToscce2+PtAoEA5d0lZfu/owQAAK7J89kxhQAAf/Bbf6rxo1m3bl21/4+Dp0yxkozks90/AABex98lAECkMb/2J/+Iqu0XlJWVqU2bNlq5cqUbebBPvEACAESWYp/tlggA8AP/9aZal/fY2FgVFxe7kQX7EO2z8xQCAPzhe3WyHQEAgBB+60+1Lu+SdPXVV+uBBx5QeXl5uPNgLw7RJtsRAAAIUU87bEcAACCE3/rTfh3Bv2jRIs2ZM0ezZs3SEUccoaSkpKDr33777bCEQ7CGge1KMEUqVqLtKAAAONporbLUxHYMAAAcCSpSw8B22zHCar/Ke926dTVs2LBwZ8E+RCXE6ZuiLspXiu0oAAA47tbtWsx53gEAESRZeZqbMNB2jLCqVXmvrKzUQw89pB9++EGlpaXq27ev7rzzTiUmsiX4YIirn6zBv8xQsvJtRwEAwPGkxukyPWc7BgAAjnwl66b6L9uOEVa1Ku/33nuv7rzzTp166qlKTEzUk08+qa1bt+qFF15wKx9+JyW+VLN1qrapoe0oAAA4yhSr53SZ7RgAADgaKFtfxp9nO0ZY1aq8v/LKK3r66ad1xRVXSJI+/vhjDRo0SM8995yiovZr7TvUQmFlolpqo1pqo+0oAAA4MtVITbTZdgwAAILMr/TXHuK1atwbNmzQwIG/HTdw6qmnKhAIaNMmf63iF6niGtW1HQEAgBCr1MF2BAAAQvitP9WqvJeXlyshISHostjYWJWVlYU1FKrX5JQjVKx42zEAAAhysj61HQEAgCDFileTU46wHSOsarXbvDFGI0eOVHz8bwWyuLhYV155ZdDp4jhVnDtSOx+i3pqnQ/Wj7SgAADim6UJdoNdsxwAAwPGjDtXTnevajhFWtSrvF198cchlF1544X5/808//VQPPfSQFi9erMzMTL3zzjs666yzgm6zcuVK3Xjjjfrkk09UXl6uzp0766233lKLFi0kSb1799Ynn3wS9DVXXHGFnnnmmf3OFaliszdpngYrUcW2owAA4KiU9Lr2//UAAADhVqQErcn+j6ROtqOETa3K+4svvhjWb15QUKCuXbvq0ksv1dChQ0OuX7t2rXr16qVRo0bprrvuUmpqqlasWBGy6/7ll1+uu+++2/m8Tp06Yc0ZKWLydlLcAQARp1yxihOH0AEAIkeiihWTt9N2jLCqVXkPtwEDBmjAgAF7vP6WW27RwIED9eCDDzqXtWnTJuR2derUUePGjV3JCAAA9q5SAdsRAADwvYg9v1tlZaVmzJih9u3bq1+/fsrIyFDPnj317rvvhtx22rRpatiwoQ4//HBNnDhRhYWFe73vkpIS5ebmBn14Qnm57QQAAITIUV3bEQAACOWz/hSx5X3Lli3Kz8/X/fffr/79+2vWrFk6++yzNXTo0KBj3C+44AK99tprmjdvniZOnKhXX311n8fhT5o0SWlpac5H8+bN3X44AAD41lV62nYEAAB8z+pu83tTWVkpSTrzzDM1fvx4SVK3bt30+eef65lnntHJJ58sSRo9erTzNUcccYSaNGmiU045RWvXrq12F3tJmjhxoq6//nrn89zcXAo8AAD7aavSbUcAAMD3InbLe8OGDRUTE6POnTsHXd6pUydt2LBhj1/Xs2dPSdKaNWv2eJv4+HilpqYGfXhCTMS+1wIA+AMrU5ztCAAAhPJZf4rY8h4XF6ejjz5aq1atCrr8hx9+UMuWLff4dUuXLpUkNWnSxM14AADgVzHy1zGFAABEIqtvReTn5wdtIV+3bp2WLl2q+vXrq0WLFpowYYLOO+88nXTSSerTp48+/PBDffDBB5o/f76kXaeSe/311zVw4EA1aNBAy5Yt0/jx43XSSSepS5culh6Ve2J2bpWRWNMXAAAAAPbCaFd/8hOr5f2rr75Snz59nM+rjkO/+OKL9dJLL+nss8/WM888o0mTJmncuHHq0KGD3nrrLfXq1UvSrq3zH3/8sR5//HEVFBSoefPmGjZsmG699VYrj8dtOzILlKXGyhR7FQAAIkdARl+ru+0YAAA4mihTOzILbMcIq4AxxtgOYVtubq7S0tKUk5MT0ce/vzF0ur59Z43ukz/fnAAAeFMvfaYFOtF2DAAAHDfrHh1+dlsNf/t821H2qLY91F9H8PtcQVIjvaRe6qCVtqMAABCEv00AgEjykkbqrqTVtmOEFeXdQ+qlVGqTDrEdAwCAIHX0tVapk+0YAAAEqZeyat838pCIXW0eodatKbEdAQCAECt0mO0IAACE8Ft/orx7SHZBsu0IAAAAAOAJfutPlHcPqdeIoxwAAJEnVqW2IwAAEMJv/Yny7iFtkzbbjgAAQIgG2m47AgAAIfzWnyjvHpK5Otd2BAAAQvyiZrYjAAAQwm/9ifLuITvz/LXbBwDAHyoVsB0BAIAQfutPlHcPiS0rsh0BAAAAADzBb/2J8u4hFYXFkoztGAAAAAAQ4cyv/ck/KO8eElVZIbFrIgAg4vC3CQAQaQK/9if/oLx7SJTx1y8fAAAAALjFb/2J8u4hpWXsMg8AiET8fQIARB6/9SfKu4dsLkiyHQEAgBDR8teWDQCAP/itP1HePaSgLN52BAAAQkSx5R0AEIH81p8o7x7SQhsVL3+tmAgA8L46KrAdAQCAIPEqVgtttB0jrPx11nqfaxCfq2WFXZSvZNtRAABwDNIMLVYP2zEAAHAkK18fxZ9hO0ZYUd49pCC6nk7Vx2qobNtRAABwtNUaXabnbMcAAMCRrYYaE/2q7RhhRXn3kJjoSm1UC21UC9tRAABw9NJnWsKWdwBAhImJrrQdIaw45t1LystsJwAAIESp4mxHAAAglM/6E+XdQ2Lkr3eOAAD+sE6tbEcAACCE3/oT5d1D4qJKWG0eABBxEvnbBACIMPEqVlxUie0YYcUx7x6SpELV1zalKtd2FAAAHC31kxJVaDsGAACOXKUqyWd/myjvHrK9NEWZaqZMNbMdBQAAx07V1WY1sR0DAIAg20tTbEcIK3ab95DyctsJAAAItVP1bEcAACCE3/oT5d1DYlVqOwIAACHKFGs7AgAAIfzWnyjvHmL4cQEAIpBRwHYEAABC+K0/+evR+FxOVF3bEQAAAADAE/zWnyjvHlJcwfqCAIDIw5Z3AEAk8lt/orx7SEkFxxQCAAAAQE34rT9R3j2kUpWSjO0YAAAAABDhzK/9yT8o7x6Srm0SuyYCACJMnM9W8wUA+EHg1/7kH5R3D4mRz05UCAAAAAAu8Vt/orx7SLLylKAi2zEAAAhSwcsJAECESVCRkpVnO0ZY+Wv5PZ8zCmiu+uhHHWo7CgAAjkv1gl7WxbZjAADgOFQ/6it1sx0jrCjvHrJFjdRX81SsRNtRAABwxKlYF+p12zEAAHAkqEh/0f22Y4QV+7l5SL6SKO4AgIgT7bPVfAEA3lesROUryXaMsKK8ew6nigMARJZ0bbUdAQCA3fivN1HePWTXqXg4VRwAILJ00ne2IwAAsJuA705lSnn3kIAqbEcAACCE4eUEACAC+a0/8dfWQ+JUzqniAAAAAGAfElSkOJ+d553V5j0kT0lqpEwlqMR2FAAAHOnaqg5aaTsGAACOYsUrz2cL1lHePaRMCfqJc7wDACLMtXpC03Sh7RgAAAQpU4LtCGHFbvMekqx82xEAAAgxRlNsRwAAIITf+hPl3UNStVN+POUBAMDbYn22mi8AwA/Mr/3JPyjvHpKnVHGqOABApElTru0IAADsJvBrf/IPyruHFCiJ1eYBABEnwF5hAIAIk6AiFbBgHWxJUZ7mqI/WsWgdACCCjNfjek0X2I4BAICjtX7UDPW3HSOsKO8ekq9knaJ5Klai7SgAADgaaqsu1Ou2YwAA4EhQkUZrsu0YYcVu8x5SrESKOwAg4pQr2nYEAACC+LE7Ud49JFoVtiMAABDCby+OAAD+4Lf+RHn3kCif/fIBAPwhQcW2IwAAEMJv/Yny7ims5gsAiDxttcZ2BAAAquGv/kR59xTO8Q4AiDwbdYjtCAAAVMNf/Yny7iHRqrQdAQCAEKWKsx0BAIAQfutPlHcPSVSh/LbrBwDA++JVajsCAAC7Mb/2J/+gvHvIrgWB/LXrBwDA+9pwzDsAIOIEfLegKuXdQ3aoruJVZDsGAABB0pVtOwIAAEHiVaQdqms7RljF2A6AmtumBmqsTCWoxHYUAAAcAzRTK9XRdgwAABzFitc2NbAdI6wo7x4SrUptU0PlK9V2FAAAHDfpfu1QfdsxAABwJCuXBetgTz3tpLgDACJOkvJtRwAAIEi+UlVPO23HCCvKu4dUsFgdACACddZ3tiMAABDCb/2J8u4hFYq1HQEAgBAZ2mo7AgAAIfzWnyjvHtJYWbYjAAAQYoResx0BAIAQfutPlHcPiVa57QgAAISoo0LbEQAACOG3/kR595A4ldmOAABAiBIl2I4AAEAIv/UnyruHFKqO7QgAAISo4OUEACAC+a0/8dfWQ4qUaDsCAAAh/LWWLwDAL/zWnyjvHhJQhSRjOwYAAEEy1dh2BAAAdmN+7U/+QXn3kBIliu0bAIBIM1ZP2Y4AAMBuAr/2J/+gvHtIqnJsRwAAIASrzQMAIpHf+hPl3UOKffbOEQDAH9gnDAAQifzWnyjvHuK3BRcAAAAAwC1+60+Udw+JUantCAAAAADgCX7rT5R3D6mnHMWr2HYMAAAAAIho8SpWPY55hy2VCuhKTbEdAwAAAAAi2pWaokqfrcoSYzsAau5nHaKv1FP99F/bUQAAcHyvzvxtAgBElE91oo7SF7ZjhBXl3UMqFKMlOsp2DAAAgozWM5qqK23HAAAgSHctth0hrNht3kPKFGs7AgAAISbqftsRAAAI4bf+RHn3kBTl244AAECImepvOwIAACH81p8o7x4S67NTHQAA/OFqTbYdAQCAEH7rT5R3DylQku0IAACEiFaF7QgAAITwW3+ivHtIoerYjgAAAAAAnuC3/kR595AEFduOAAAAAACe4Lf+RHn3kAoFbEcAACBEQMZ2BAAAQvitP1HePSSKF0cAgAhUrhjbEQAACOG3/kR595BYVdqOAABACLa8AwAikd/6E+XdQ8r4cQEAIlCMym1HAAAghN/6k78ejc+VKMF2BAAAQkT7bMsGAMAf/NafKO8e0lrrbEcAACBEqnJtRwAAIITf+pPV8v7pp59qyJAhatq0qQKBgN59992Q26xcuVJnnHGG0tLSlJSUpKOPPlobNmxwri8uLtbVV1+tBg0aKDk5WcOGDdPmzZsP4qM4eKJUYTsCAAAhWLAOABCJ/NafrJb3goICde3aVZMnT672+rVr16pXr17q2LGj5s+fr2XLlum2225TQsJvuz+MHz9eH3zwgf71r3/pk08+0aZNmzR06NCD9RAOqp2qazsCAAAhjM9OxQMA8Ae/9Serb5UPGDBAAwYM2OP1t9xyiwYOHKgHH3zQuaxNmzbO/+fk5Oj555/X66+/rr59+0qSXnzxRXXq1En/+9//dOyxx7oX3oJ4ldqOAABAiEIl2o4AAEAIv/WniD3mvbKyUjNmzFD79u3Vr18/ZWRkqGfPnkG71i9evFhlZWU69dRTncs6duyoFi1aaOHChXu875KSEuXm5gZ9eMGu5YA4HQ8AILKw2jwAIPIY3y2nGrHlfcuWLcrPz9f999+v/v37a9asWTr77LM1dOhQffLJJ5KkrKwsxcXFqW7dukFf26hRI2VlZe3xvidNmqS0tDTno3nz5m4+lLAxipLYNREAEGFSlGc7AgAAuwn82p/8I2IfTWXlrvdJzjzzTI0fP17dunXTTTfdpMGDB+uZZ545oPueOHGicnJynI+NGzeGI7LrknhxBACIQH47FQ8AwB/81p8idnnYhg0bKiYmRp07dw66vFOnTlqwYIEkqXHjxiotLdXOnTuDtr5v3rxZjRs33uN9x8fHKz4+3pXcbipSonbtNs/WdwBA5Kjk7xIAIOKYX/uTf0Tslve4uDgdffTRWrVqVdDlP/zwg1q2bClJOvLIIxUbG6s5c+Y4169atUobNmzQcccdd1DzHgwxFHcAQETibxMAINIEfu1P/mF1y3t+fr7WrFnjfL5u3TotXbpU9evXV4sWLTRhwgSdd955Oumkk9SnTx99+OGH+uCDDzR//nxJUlpamkaNGqXrr79e9evXV2pqqsaOHavjjjvOdyvNS1KiCm1HAAAgRJzPVvMFAPiD3/qT1fL+1VdfqU+fPs7n119/vSTp4osv1ksvvaSzzz5bzzzzjCZNmqRx48apQ4cOeuutt9SrVy/nax577DFFRUVp2LBhKikpUb9+/fT0008f9MdyMBQrXvEq5thCAEBEaaX12qJGtmMAAOCIV7GK5b1DpfcmYIzx174E+yE3N1dpaWnKyclRamqq7Th7NCrwjGZqsFJ9tvACAMDbWmud1qm17RgAADhylaIB+o+eN1fajrJHte2hEbtgHUI1UZayla5MHWI7CgAAjuv0hK7SgZ0JBgCAcIpViZpoz6cP96KIXbAOoXKUojLF2Y4BAECQa/WE7QgAAAQpU5xylGI7RlhR3j1kuxqIFX0BAAAAYF8Cv/Yn/6C8e0gjbbYdAQCAEAGfnYoHAOAPfutPlHcPaaZM2xEAAAiRphzbEQAACOG3/kR595Ayn53qAADgF2x5BwBEHr/1J8q7hxTE1LUdAQAAAAA8wW/9ifLuIamV2xWvYtsxAAAIkqd9n5sWAICDKV7FSq3cbjtGWFHePYR15gEAkSha5bYjAAAQwm/9ifLuIQVKVIkSbMcAACDISfrUdgQAAIKUKEEFSrQdI6wo714SFW07AQAAISrF3ycAQATyWX+ivHtIWVS8ElRkOwYAAAAARLQEFaksyl+rzcfYDoCaqzQBddFS1dMO21EAAHBkaKv66b+2YwAA4Niheqo0/jrqnfLuIXFlBfpEfZSgEttRAABwLFRPHacvbMcAAMBRrHjdX/ZX2zHCit3mPaSpNlHcAQARx1/bNQAAfpCgEjXVJtsxwory7iHGZwsuAAAAAIBb/NafKO8eUhCVajsCAAAAAHiC3/oT5d1DsgMNVMR53gEAEWar0m1HAAAgSJESlB1oYDtGWLFgnYdsi2miDmWr1FDZtqMAAOCoowLdobtsxwAAwJGthhoQM892jLCivHtIQlSJNqqFNqqF7SgAADh66TMtUQ/bMQAACJIQ5a/Fvtlt3kPiKoptRwAAAAAAT/Bbf6K8e0hxZaztCAAAhEhRru0IAACE8Ft/orx7SGllnO0IAACEMLycAABEIL/1J/7aekh0dKXi5a9dPwAAAAAg3OJVrOjoStsxwooF6zwkPi6g+iXblMruiQCACJKhzeqglbZjAADgyFWq4uMCtmOEFeXdQ+pElyhTzZSpZrajAADgeFkj9YpG2o4BAECQOtGsNg9LslXfdgQAAEJkqbHtCAAAhPBbf6K8e0hlhe0EAACEelg32I4AAEAIv/UnyruHpEQX2I4AAECIOiqyHQEAgBB+60+Udw+pU5FvOwIAACGi5K/VfAEA/uC3/kR59xK/7fcBAAAAAG7xWX+ivHtIfEKA87wDACLOdtWzHQEAgCDxKlZ8AqeKgyV1kqN16bapWqRjbUcBAMCxXq11lL60HQMAAMfR+p/qJEfbjhFWlHcPyS2O1Qu6VCVKsB0FAABHXW3XVzrGdgwAABzL1UU3Fr9gO0ZYsdu8h1QWllDcAQAAAGAfSpSgysIS2zHCivLuIQVlcbYjAAAQIk5ltiMAABDCb/2J8u4h9cx2JXAuXQBAhGmtdbYjAAAQJEFFqme2244RVhzz7iH1A9v1jbooXym2owAA4Bijp7VYPWzHAADAkaw8zQ4Mth0jrCjvHpIVaKpTNUcNlW07CgAAjrraqcv0nO0YAAA4stVQFwfetB0jrCjvHmLi47WxqIU2qoXtKAAAOHrpUy1hyzsAIMKY+HjbEcKKY949xMhf5ykEAPhDOdsCAAARyG/9ifLuIfFxlbYjAAAQwihgOwIAACH81p8o7x6SUi9a8Sq2HQMAgCANtM12BAAAgsSrWCn1/LXlnf3cPCRnh1F9bVOqcm1HAQDAMU5Paq3a2I4BAIAjV6nK2WFsxwgryruHlJVKmWqmTDWzHQUAAEcdFWmVOtmOAQBAkLJS2wnCi93mPaSs3F/vHAEAAACAW/zWnyjvHpJnkm1HAAAgxE6l2Y4AAEAIv/UnyruHlEX56zyFAAB/mKyrbUcAACCE3/oT5d1Dkk2+7QgAAIRYocNtRwAAIITf+hPl3UMClZWS/HXcBgDA+7Yq3XYEAAB2Y37tT/5BefeQaFMiKWA7BgAAQXhbGQAQeQK/9if/oLx7SbS/jtkAAPhDkgpsRwAAIJTP+hPl3UNMNFvdAQAAAKAm/NafKO8eEgj465cPAOAP/HUCAEQiv/UnyruHJPlstUQAgD+00AbbEQAACOG3/kR595C4QJntCAAAhIiXvxYEAgD4g9/6E+XdQwpjUm1HAAAAAABP8Ft/orx7SUKC7QQAAFSDk8UBACKQz/oT5d1DYirYLREAEHlS5K9jCgEA/uC3/kR595A60aW2IwAAEOJ7dbAdAQCAEH7rT5R3AABwQLLV0HYEAAB8j/LuIQklObYjAAAQIlkFtiMAABDCb/2J8u4hZeW2EwAAECpKFbYjAAAQwm/9ifLuIevKm9uOAAAAAACe4Lf+RHn3EE7EAwCIRAkqth0BAIAQfutPlHcPqV+22XYEAABCtNJ62xEAAAjht/5EefeQgIzi2boBAIgwlYq2HQEAgCDxKlbAZ9veY2wHQM2VJaSqfvE2pSrXdhQAAIJ00ErbEQAAcOQqVWUJqbZjhBXl3UOiTZky1UyZamY7CgAAjnR9plXqZDsGAABBok2Z7QhhxW7zXhIbbzsBAAAhipVgOwIAAKF81p8o7x6SlOCzExUCAHzhRx1qOwIAACH81p8o7x6SEFPOgnUAgIgTp1LbEQAACBKvYiXE+Ku8c8y7h5QnJqu+WLAOABBZGmqb0rTTdgwAABy5SlV5YrLtGGFFefeQuKQ4bVcDFqwDAESUjnpH/6detmMAAOCIV7HikuJsxwgryruHxKYksuUdABBxxulJfa+OtmMAAODIVapiUxJtxwgryruHREeJU8UBACJOJ33PqeIAABEn2mcrvPns4fhb/ZZJLFgHAIg4/1NP2xEAAAgSr2LVb5lkO0ZYseXdQ469rIuavLBJ8SqxHQUAAMczulIdtNJ2DAAAHCWK17GXdbEdI6wo7x7S4rhm+uTzX5T9I+UdABA5rr6wrl5/zXYKAAB+0/DQeLU4zl+HG1PePabFcc1890sIAPC2+ld+qh4jOOYdAAA3ccw7AAA4INF9TrIdAQAA36O8AwCAA9KMHcIAAHAd5R0AAByQKVNsJwAAwP8o7wAAAAAARDjKOwAAAAAAEY7yDgAAAABAhKO8AwAAAAAQ4SjvAAAAAABEOMo7AAAAAAARjvIOAAAAAECEs1reP/30Uw0ZMkRNmzZVIBDQu+++G3T9yJEjFQgEgj769+8fdJtWrVqF3Ob+++8/iI8CAAAAAAB3xdj85gUFBeratasuvfRSDR06tNrb9O/fXy+++KLzeXx8fMht7r77bl1++eXO5ykpKeEPCwAAAACAJVbL+4ABAzRgwIC93iY+Pl6NGzfe621SUlL2eRsAAAAAALwq4o95nz9/vjIyMtShQwddddVV2rZtW8ht7r//fjVo0EDdu3fXQw89pPLy8r3eZ0lJiXJzc4M+AAAAAACIVFa3vO9L//79NXToULVu3Vpr167VzTffrAEDBmjhwoWKjo6WJI0bN049evRQ/fr19fnnn2vixInKzMzUo48+usf7nTRpku66666D9TAAAAAAADggAWOMsR1CkgKBgN555x2dddZZe7zNjz/+qDZt2ujjjz/WKaecUu1tXnjhBV1xxRXKz8+v9vh4adeW95KSEufz3NxcNW/eXDk5OUpNTT2gxwEAAAAAwL7k5uYqLS2txj004neb/71DDz1UDRs21Jo1a/Z4m549e6q8vFzr16/f423i4+OVmpoa9AEAAAAAQKTyVHn/+eeftW3bNjVp0mSPt1m6dKmioqKUkZFxEJMBAAAAAOAeq8e85+fnB21FX7dunZYuXar69eurfv36uuuuuzRs2DA1btxYa9eu1V//+le1bdtW/fr1kyQtXLhQX3zxhfr06aOUlBQtXLhQ48eP14UXXqh69erZelgAAAAAAISV1WPe58+frz59+oRcfvHFF2vKlCk666yztGTJEu3cuVNNmzbV6aefrr/97W9q1KiRJOnrr7/WmDFj9P3336ukpEStW7fWRRddpOuvv36Px7tXp7bHGgAAAAAAcCBq20MjZsE6myjvAAAAAICDqbY9NKJPFXewVL1/wfneAQAAAAAHQ1X/rOn2dMq7pLy8PElS8+bNLScBAAAAAPyR5OXlKS0tbZ+3Y7d5SZWVldq0aZNSUlIUCATCfv9V55HfuHEju+W7hBm7i/m6i/m6i/m6i/m6i/m6i/m6i/m6i/m662DM1xijvLw8NW3aVFFR+z4RHFveJUVFRemQQw5x/ftwTnn3MWN3MV93MV93MV93MV93MV93MV93MV93MV93uT3fmmxxr+Kp87wDAAAAAPBHRHkHAAAAACDCUd4Pgvj4eN1xxx21Ovc8aocZu4v5uov5uov5uov5uov5uov5uov5uov5uisS58uCdQAAAAAARDi2vAMAAAAAEOEo7wAAAAAARDjKOwAAAAAAEY7yDgAAAABAhKO8AwAAAMAfFOuXewfl3YMqKyttR/A1nsDCj5kCqCmeL8KPmQKoTlFRkSQpEAjwPOGC7OzssN8np4qLcGvXrtX777+v4uJiNWnSRCNHjrQdyVd++uknLViwQAUFBerSpYuOPfZYSbveIImK4r2tA7Vz507VqVNHcXFxMsYoEAjYjuQ7mzZt0vfff6/s7Gwde+yxatGihe1IvrJ+/Xr95z//UW5urg477DCdeeaZtiP5Cs/B7uI52F08/7qL5193rVixQhdeeKHuuOMOnXXWWZLE80QYLVmyREceeaQWLFig448/Pmz3GxO2e0LYffvtt+rdu7dOPvlkbdmyRdnZ2Zo8ebJeffVVdejQgX9cB2j58uXq06ePOnfurOXLl6t58+Zq166d3nrrLUVFRfHi8QCtXLlSl1xyic466yyNHz9e8fHx/FEIs+XLl+uss85SRkaGFi1apN69e+uGG27QgAEDbEfzhWXLlql///7q1q2bVq1apcaNGys6OlqDBw+2Hc0XeA52F8/B7uL51108/7rvhRde0A8//KC77rpLlZWVGjp0qLMFnueJA/PNN9/o5JNP1nXXXRfW4i6x23zEysnJ0aWXXqpLL71Ub731lmbPnq1//OMfWrJkif785z/rq6++ksSucPuroKBAo0eP1nnnnae5c+dq1apVuvHGG7Vs2TL17NlT5eXlzotH1N6GDRt0/vnna+3atZoxY4amTJmikpISdssKozVr1mjgwIEaPny43n//fa1evVoFBQX617/+ZTuaL/zwww8aMGCALr30Uv3nP//RggULtHPnTmVmZtqO5gs8B7uL52B38fzrLp5/D446deroyCOP1AknnKBbb71Vb731lqRdu9BXVFRYTudd3377rY4//niNGzdOjz76qIwxWrdunT7//HNt2bLlgO+f8h6htm/frqKiIo0YMUKSlJCQoCOOOEJHHXWUNm/erD//+c/8IT4AJSUlKigo0MCBAxUTE6OMjAyde+65eu2117Rjxw717dtXkhQVFcV8a8kYow8++EBNmzbVjBkz1L59e02fPj3oxSMvyA9MSUmJpkyZot69e+uWW25R/fr11bp1a02YMEGzZs3S9u3bbUf0tJKSEj399NPq16+f7rjjDgUCATVp0kTdunXT8uXLNWHCBD322GO2Y3oaz8Hu4TnYXTz/uovn34Ond+/e6tGjh6655hr16NFDt99+u+bPn69JkyZp0aJFPPfuh5KSEv31r39VaWmp7rnnHknSkCFDdM4556hXr14aMmSIbrzxxgP6HpT3CBUbG6vc3Fz93//9n3PZzp07VVBQoOeee05lZWXOD59dW2ovNTVV5eXlmjt3rnNZbGysjjnmGD377LPKysrSrbfeKon51lYgENCZZ56pyy67TMccc4yeeeYZHXbYYXrjjTf09NNPq6ioiBfkB8gYo7i4OPXt21eJiYmKjo6WJDVq1EhFRUUqLS21nNDboqOjdd5552ncuHGKjY1VIBDQvffeqzfeeEOFhYVau3atnnnmGZ1//vm2o3oWz8Hu4TnYXTz/uovn34MnPj5eH3/8sVq3bq0bb7xRJ598soYOHapbbrlFbdq0YQPhfoiNjdUtt9yiVq1a6aSTTtLpp5+uQCCg+++/X19//bVOO+00ffjhh7r//vv3/5sYRKT8/HwzcuRIc+qpp5rrrrvOTJ8+3dStW9dcffXVxhhjbrjhBnPWWWdZTuldFRUV5vbbbzcnnHCCmTlzZtB1ZWVlZty4caZfv36mrKzMUkJvq6ioCPq8qKjIjBo1yhxzzDHm0UcfNUVFRcYYY1599VUb8Xxh06ZNzv9XzXvdunWmY8eOZufOnc51ixYtOujZ/KC4uNj5/1WrVpnGjRubDz74wLlsypQppk2bNuaHH36wEc/zysvLzW233WaOP/54noNdwHOwu3j+dRfPv+4qLy83xhizfft2c8IJJ5jKykpjjDGDBg0ySUlJ5tBDDw2aN2qnvLzcfPHFF6ZDhw7myCOPNL/88otzXV5enjn//PPNgAED9vvvGwvWRYjS0lJnNVhjjJKSknTLLbdoypQp+uijj/Tpp5/q2muv1Z133ilJSkxM1JYtW1RRUeG864s92759u7KyshQIBNS0aVOlpaVp+PDh+vDDDzV58mQlJibq5JNPliTFxMSoW7du+vDDD5WXl6d69epZTh/5quYrSYcccohSU1OdxaYqKiqUkJCgp556SmPHjtX06dNljNHq1av13HPP6aSTTmKF3hr4/YybNWumJk2aSApelbukpEQ7duxQUVGR0tLSdNttt2nGjBmaNWuWGjZsaC27F1T3O2x+XbSnffv2WrZsmdLT0515N2jQQLGxsUpLS7Oc3BuysrK0Zs0axcTEqE2bNkpPT9dFF12kWbNm6e9//zvPwQeoar7R0dFq165d0L/38vJynoMP0O/n27ZtW+f51xjD828Y7O33l+ffA/f759+2bds6861Xr56io6O1aNEiPf3001qyZImeffZZzZ8/X5dffrmeffZZFgisgd2fH9LT03XUUUfpjTfeUGZmpjIyMiRJFRUVSk5OVvv27TVjxoz9P3zpwN9fwIH67rvvTO/evc3nn39ujNn1Lm7Vu2LFxcWmtLTUZGVlBX3NiBEjzFVXXeW8W4Y9W7ZsmTnqqKNM+/btTcuWLc3QoUPNxo0bjTHGfP311+awww4zgwYNMq+88ooxZtdWn2uvvdb07dvXFBQU2IzuCdXN9/dbJYz57V3eqq0/8fHxJjU11Xz99dc2IntOTWZsjDFLly41SUlJJjs729x1110mNjaWLT81sLf5Vm1V2/259oYbbjCDBw82eXl5Bz2v13zzzTemVatWpk2bNqZZs2bmkEMOMe+9954xxpjly5ebww47zAwcOJDn4P20+3ybN29u/vOf/5jS0lLnNlVbeHgOrr2azNcYnn/3V03mu/ueJDz/1tye5lu1980555xj6tata1q1amWWLFlijNm1x8jVV19t1qxZYzG5N1T39+2DDz5wfmd3/901xpiRI0eaUaNGOa+Na4vybtm6detMmzZtTL169czRRx9tFi5caIzZ9cOurph/8803ZuLEiSYtLc2sWLHiYMf1nO+//96kp6ebCRMmmCVLlpjnnnvO9O7d2zz22GPOP6jly5ebM88807Rr1860atXK9O3b19StW9d5EsOe7Wm+jz/+uDEmuPBUzfvKK6809erVM99++62VzF5TmxmvWbPG9OjRw4wePdrEx8ebr776ylZsz6jNfI3ZtZvhxIkTTYMGDczy5cttRPaULVu2mLZt25obb7zRbNiwwXzxxRfmqquuMtHR0ebhhx82xhizYsUKnoP3057mGxMTYx577DGTn5/v3LbqhSLPwTVXm/ny/Ft7tZmvMTz/1tbe5vvoo48aY4yZM2eOOeqoo0LeaPr9oQuo3r7mW93v780332wyMjLMd999t9/fl/JuUXFxsRkzZowZNmyYmTZtmhk6dKjp3r27U+B3f9FYUFBg/va3v5lDDz2UFzU1kJeXZ84991xz+eWXB11+wQUXmL59+xpjfpvx5s2bzZdffmnuuOMO8+yzz3IcVQ3UZL67+8c//mECgQBbe2qotjP+7rvvTCAQMGlpacy4Bmo7348++siMHj06aAsF9m716tWmQ4cOIfO67777TCAQMFOmTDHGGPPLL7+YL774gufgWtrbfKOioszUqVONMb+9ecpzcO3UdL7G8Py7P2rz+8vzb+3V9Pn39+s0sEdvzdXm9/e///2vufjii02zZs0O+PmB8m7Zu+++a5599lljjDGfffaZOfvss/da4PPy8kJ2oUf1tm7dasaNG2feeOMNY8xvWx3eeustc+KJJ5ry8nJTXl7OE9V+qul8d/fjjz8e1JxeVtsZZ2ZmmrPPPtusXLnSSl6vqe18f/nlF/Pyyy+bdevW2YjrSV999ZWJi4sz33zzjTHGBO0Ke/vttwddh9rb13zj4+NDtlDyHFxztZlvVlYWz7+1VJv5btq0ybzyyis8/9ZCTZ5/2YNh/9Xm9/fnn382U6dONWvXrj3g70t5jzDz5883Q4cONd26dXMKfHFxsVm1apXlZN5TWVlpvvjii6DPjdn1hkmPHj1MWVmZc1lOTo6VjF7GfN1Xmxnv2LHDGMOubrWxP/Ot7vg17F2/fv1Mr169zLZt24wxv73AKS8vN6effrq59NJLTVlZGbPdT/ua76hRo0xZWZkpKSmxGdOzavL7WzVbZlx7NZlv1WVsbKm9mjw/sCFr/9Xm+SFcM+Y87xGiasXBk08+WePGjdOhhx6qMWPGaMGCBZowYYJOOeUU5efnW07pLYFAQMccc4wkOatGS1JhYaHy8/MVHR2tQCCgW2+9VYMGDVJZWRnns6yF/Zkvaqc2Mx48eLDKysoUGxtrM7Kn7M98Oed47Y0ZM0YVFRWaMGGCdu7cqdjYWFVWVio6OlpNmjRRdna2YmJinFW7UTv7mu/WrVsVExOjuLg421E9qSa/v1WzZca1V5P5Vv1d4/m39mry/FD1tw61V5vnh3DNmL+UESIqKsopjr8v8H369NErr7yit956S8nJyZZTetfv/8GkpaUpMTHReVH+6KOP6rHHHlNsbCxPXvuppvPF/tvXjB9//HHFxsZSgPZTTefLc0TtDRo0SMOGDdOKFSs0ZswY7dixw/k9jY2NVd26dXnz9AAwX3cxX3cxX3cxX3fZmC/neY8ggUDA2fpz8skn66GHHlJycrIWLFigww47zHY836j6x/SXv/xFTz31lD7//HMdeeSRtmP5BvN1HzN2F/MNn6otENddd53q1Kmj1157TZ06ddLgwYO1bds2ffzxx1q4cCFv7u0n5usu5usu5usu5usuW/MNGN5qOWgqKytrtFWsoqJCDzzwgO6991793//9n7p16+Z+OB+o6XzffPNNDR8+XElJSfrkk0/Uo0ePg5DO+5iv+5ixu5ivu/Y036rLjTFas2aNXn75Za1bt05169bV1Vdfrc6dO1tI6z3M113M113M113M110RNd+wHDmPPVq/fr15/fXXnc9ruiDPe++9x3nca2B/5rt48WJz2mmnMd8aYL7uY8buYr7uqul8WQxp/zBfdzFfdzFfdzFfd0XqfNlt3kU//PCDjj32WKWnp6uoqEiXXnqpoqKiarT154wzzjhIKb1rf+fbrVs3vfnmm6pXr95BTOs9zNd9zNhdzNddtZlv1VoB5ncLA2LvmK+7mK+7mK+7mK+7Inm+7Dbvku3bt+uCCy5QYmKiJCk7O1sjR47UqFGjJNV8901Ub3/nyxNXzTBf9zFjdzFfd/E3zl3M113M113M113M112RPl9+si4pLS1Vq1atNGbMGE2dOlVNmjTRSy+9pOeff15S8OrykljlsZb2d768KK8Z5us+Zuwu5usu/sa5i/m6i/m6i/m6i/m6K9Lny5Z3lxhjtHnzZjVq1EiBQEBZWVkaO3assrKydPHFF+uyyy6TJM7LvJ+Yr7uYr/uYsbuYr3uq9k7Iyspivi5gvu5ivu5ivu5ivu7ywnwp72FUXl6umJgYVVRUKDo62vlv1Q93y5Ytuvrqq5WVlaWRI0fqwgsv1E033aTk5GT97W9/sx0/4jFfdzFf9zFjdzFfd/1+Vd1AIODMt7S0VHFxccz3ADFfdzFfdzFfdzFfd3lpvpT3MFm1apUeeughbd++XXXq1NHkyZOVlpbmXF/1S1H1w9+yZYvKy8u1ZMkSLViwgFMR7QPzdRfzdR8zdhfzddeqVav01FNPKS8vT+np6ZowYYIaNWrkXF/1Qof57h/m6y7m6y7m6y7m6y6vzZfyHgbLly9X7969deaZZyouLk5Lly5V27Zt9corrwS9i1P14vHnn3/WUUcdpdLSUs2fP19dunSx/RAiGvN1F/N1HzN2F/N118qVK9WzZ08NHjxY+fn5yszM1I8//qjnnntOAwcOVHx8vCQx3/3EfN3FfN3FfN3FfN3lyfke+Nnm/tjWrl1r2rZtayZOnGiM2XUOwNtuu81cc801xhhjysvLg25fVFRkRo8ebVJSUszy5csPel6vYb7uYr7uY8buYr7uqqysNJdccok555xznM/z8/PN6NGjTUJCgnnllVeCzn1bXFzMfGuB+bqL+bqL+bqL+brLq/PlPO8HaO7cuerRo4cmTJggadcKhDk5Ofr000/Vp08fVVZW6rHHHlOPHj1UWVmpuLg4rV69WrNmzdLhhx9uOX3kY77uYr7uY8buYr7uCgQCysnJ0SGHHCJp12I+SUlJ+sc//qH4+HiNGTNG7dq107HHHqvKykrFxsYy31pgvu5ivu5ivu5ivu7y7HytvW3gEyUlJUHvvjzyyCMmJibG3H///ebZZ581Z599tklPTzdZWVkWU3oX83UX83UfM3YX83XfFVdcYdq3b28qKyuNMbtmXmXYsGGmc+fOprCw0FY8z2O+7mK+7mK+7mK+7vLifCnvYbR9+3YzatQo8/HHHzuXbdq0yTRo0MC8/PLLzmVVvyCoHebrLubrPmbsLuYbXlVzWrp0qenatau58sorTVlZmTHmtxc4n3zyiWnevLlZsmRJyNdh75ivu5ivu5ivu5ivu7w83yh72/z9xRijevXq6e9//7tOOeUUmV/XAdyxY4eaN2+u9u3bO7cNBAK2YnoW83UX83UfM3YX8w2/qjl16tRJw4cP11dffaW//vWvKisrU1xcnCSpUaNGzmn5dv867B3zdRfzdRfzdRfzdZeX58sx7weo6vQBVT/MmJhdI636/PXXX1dMTIxat25tLaOXMV93MV/3MWN3MV93VZ3j9pprrlF5ebnefvttnXPOOXrmmWdUWFioadOmKTo62jlmELXDfN3FfN3FfN3FfN3l2fna2uTvVb/fXaJqFeOffvrJPPLII0G3W7FihfnLX/5i0tLSzNKlSw9qRi9jvu5ivu5jxu5ivgdP1XzXrl1rpk6daioqKsy0adPM0UcfbRISEkzHjh1NixYtzOLFiy0n9Sbm6y7m6y7m6y7m6y4vz5fyXgP5+fmmsLDQbN++3bms6tQB69evN82aNTNjxoxxrvv222/NxIkTTbdu3cw333xz0PN6DfN1F/N1HzN2F/M9+Haf7xVXXBF0/Zw5c8zXX39tfvnlFxvxPI/5uov5uov5uov5usvr86W878OKFSvMwIEDTY8ePUzz5s3Nm2++6Vy3ZcsW07ZtW3PFFVcEbQ0qLS013333Hasb1wDzdRfzdR8zdhfzddfKlSvNG2+8Ue11W7duDZlvJCzW4yXM113M113M113M111+nS/lfS9WrFhh6tevb8aPH2+mTp1qJkyYYAKBgPnyyy+NMcZs3rzZTJ06NeiH7ZUffCRgvu5ivu5jxu5ivu764YcfTHJysgkEAmby5Mkh12/ZsiVkvqg55usu5usu5usu5usuP883YMyvS/IiyLZt23Tuueeqa9euevTRR53L+/btq+OPP1733HOPxXTex3zdxXzdx4zdxXzdlZOTozFjxqi0tFSdO3fW3/72Nz3xxBMaO3aspN8WAsT+Yb7uYr7uYr7uYr7u8vt8WW1+DzZv3qydO3dqyJAhQZc3b95c69atk7Tr1ESRcMoAL2K+7mK+7mPG7mK+7srLy1OzZs3Uq1cv9evXTykpKbr22mslSWPHjlVUFGeSPRDM113M113M113M112+n6/Frf4Rb86cOc7/l5aWGmOMuf76681FF10UdLuSkpKDmssvmK+7mK/7mLG7mK+71q9f7/x/QUGBefDBB00gEDBPPvmkc3lZWZnJzs62Ec/zmK+7mK+7mK+7mK+7/DxftrxXo7KyUlFRUerbt6/zeWxsrCQpLi5Oubm5zm3vvvtuZWRkaPTo0d5/J+cgYb7uYr7uY8buYr7uqKyslDHG2V2wZcuWzt4LderU0dixY2WMCdpCccMNNyg1NVW33Xab4uLibMaPeMzXXczXXczXXczXXX+k+VLef/XLL78oKytL3bt3D3kBuPvn5eXlkqTbbrtN9957rxYvXsyLxn1gvu5ivu5jxu5ivu767rvvdN999ykrK0vt2rXT4MGDNWjQIAUCAZWXlysmJkYJCQkaN26cAoGA/vKXv2jatGn68ssvtXjxYk+9sLGB+bqL+bqL+bqL+brrjzZfXu1I+v7779W2bVtdcsklWrJkiUw1a/hVVFRI2vXOTrNmzfT444/roYce0ldffaXu3bsf7MiewnzdxXzdx4zdxXzdtWrVKh1//PGqqKjQ0UcfrYULF+rOO+/U+PHjJUkxMTHOGyIJCQkaPXq0Dj/8cK1evVrffPMN890H5usu5usu5usu5uuuP+R8D+Iu+hFp69at5pRTTjHnn3++6dSpk+nSpYtZtGjRHk8dcPvtt5tAIGDq1q1rFi1adJDTeg/zdRfzdR8zdhfzdVdlZaW5+eabzbnnnutclpuba+655x7TrVs3c/nllzuXV1RUmIqKCueUfMuWLbMR2VOYr7uYr7uYr7uYr7v+qPP9w295/+WXX9SmTRtdd911Wrp0qSoqKjRq1CgtXry42q0/TZo0UUxMjBYsWKCjjjrKQmJvYb7uYr7uY8buYr7uCgQC2rRpk7KyspzLUlJSNG7cOF144YVasmSJHnjgAUm7Dk/Izs5WZWWllixZoiOOOMJWbM9gvu5ivu5ivu5ivu76w87X6lsHEaCwsNB88803pry83BhjTFFRkencubOz9adKWVmZ8/9btmw56Dm9ivm6i/m6jxm7i/m6p2rvhSeffNKccMIJ5vvvvw+6fvv27ebyyy83xx9/vMnNzXUuZ/X+mmG+7mK+7mK+7mK+7vojz/cPX95/r+oHWlJSEvTisaioyNxzzz3m73//u+WE3sZ83cV83ceM3cV83bFmzRrTsGFDc+mll5q8vDxjzG8vfDZs2GACgYCZOXOmzYiexnzdxXzdxXzdxXzd9UecL6vN/05cXJzKy8sVFxenJUuWqHv37ho9erRatmypGTNmaOnSpbYjehrzdRfzdR8zdhfzdUebNm30z3/+UwMGDFBiYqLuvPNONWzYUJIUGxurLl26KC0tzXJK72K+7mK+7mK+7mK+7vojzpfyvpuqVQnj4uL0v//9T3Xr1tVPP/2kL7/8Up07d7Ydz/OYr7uYr/uYsbuYrzv69Omjf/3rX/rTn/6kzMxMnXvuuerSpYteeeUVbdmyRc2bN7cd0dOYr7uYr7uYr7uYr7v+aPMNGFPNikBQUVGRJkyYoBdffFGLFi3iRWOYMV93MV/3MWN3MV93fP3117r++uu1fv16xcTEKDo6WtOnT/fm6XIiEPN1F/N1F/N1F/N11x9lvmx534Ps7GytXr1a8+bN40WjC5ivu5iv+5ixu5ivO3r06KH3339f27dvV15enpo0aeLsYogDx3zdxXzdxXzdxXzd9UeZL1ve98AYo+LiYiUmJtqO4kvM113M133M2F3MFwAAIBjlHQAAAACACBdlOwAAAAAAANg7yjsAAAAAABGO8g4AAAAAQISjvAMAAAAAEOEo7wAAAAAARDjKOwAAAAAAEY7yDgAAAABAhKO8AwAAAAAQ4SjvAAD8wY0cOVKBQECBQECxsbFq1KiRTjvtNL3wwguqrKys8f289NJLqlu3rntBAQD4A6O8AwAA9e/fX5mZmVq/fr1mzpypPn366Nprr9XgwYNVXl5uOx4AAH94lHcAAKD4+Hg1btxYzZo1U48ePXTzzTfrvffe08yZM/XSSy9Jkh599FEdccQRSkpKUvPmzTVmzBjl5+dLkubPn69LLrlEOTk5zlb8O++8U5JUUlKiv/zlL2rWrJmSkpLUs2dPzZ8/384DBQDAoyjvAACgWn379lXXrl319ttvS5KioqL05JNPasWKFXr55Zc1d+5c/fWvf5UkHX/88Xr88ceVmpqqzMxMZWZm6i9/+Ysk6ZprrtHChQs1ffp0LVu2TH/605/Uv39/rV692tpjAwDAawLGGGM7BAAAsGfkyJHauXOn3n333ZDrzj//fC1btkzfffddyHX//ve/deWVVyo7O1vSrmPer7vuOu3cudO5zYYNG3TooYdqw4YNatq0qXP5qaeeqmOOOUb33Xdf2B8PAAB+FGM7AAAAiFzGGAUCAUnSxx9/rEmTJun7779Xbm6uysvLVVxcrMLCQtWpU6far1++fLkqKirUvn37oMtLSkrUoEED1/MDAOAXlHcAALBHK1euVOvWrbV+/XoNHjxYV111le69917Vr19fCxYs0KhRo1RaWrrH8p6fn6/o6GgtXrxY0dHRQdclJycfjIcAAIAvUN4BAEC15s6dq+XLl2v8+PFavHixKisr9cgjjygqateSOf/85z+Dbh8XF6eKioqgy7p3766Kigpt2bJFJ5544kHLDgCA31DeAQCASkpKlJWVpYqKCm3evFkffvihJk2apMGDB+vPf/6zvv32W5WVlempp57SkCFD9H//93965plngu6jVatWys/P15w5c9S1a1fVqVNH7du314gRI/TnP/9ZjzzyiLp3766tW7dqzpw56tKliwYNGmTpEQMA4C2sNg8AAPThhx+qSZMmatWqlfr376958+bpySef1Hvvvafo6Gh17dpVjz76qB544AEdfvjhmjZtmiZNmhR0H8cff7yuvPJKnXfeeUpPT9eDDz4oSXrxxRf15z//WTfccIM6dOigs846S4sWLVKLFi1sPFQAADyJ1eYBAAAAAIhwbHkHAAAAACDCUd4BAAAAAIhwlHcAAAAAACIc5R0AAAAAgAhHeQcAAAAAIMJR3gEAAAAAiHCUdwAAAAAAIhzlHQAAAACACEd5BwAAAAAgwlHeAQAAAACIcJR3AAAAAAAi3P8DRjpLSs09A94AAAAASUVORK5CYII=\n",
                  "text/plain": "<Figure size 1200x600 with 1 Axes>"
                },
                "metadata": {},
                "output_type": "display_data"
              }
            ]
          }
        },
        "d3832cc07b864eb086ded8f4433504b0": {
          "model_module": "@jupyter-widgets/controls",
          "model_module_version": "1.5.0",
          "model_name": "FloatSliderModel",
          "state": {
            "_dom_classes": [],
            "_model_module": "@jupyter-widgets/controls",
            "_model_module_version": "1.5.0",
            "_model_name": "FloatSliderModel",
            "_view_count": null,
            "_view_module": "@jupyter-widgets/controls",
            "_view_module_version": "1.5.0",
            "_view_name": "FloatSliderView",
            "continuous_update": true,
            "description": "Candlestick Width",
            "description_tooltip": null,
            "disabled": false,
            "layout": "IPY_MODEL_986ec9b219cd4f088b7b9d66e704b7e4",
            "max": 1,
            "min": 0.1,
            "orientation": "horizontal",
            "readout": true,
            "readout_format": ".2f",
            "step": 0.1,
            "style": "IPY_MODEL_fcfa5d3f529749bb823136a27a51c385",
            "value": 0.4
          }
        },
        "fcfa5d3f529749bb823136a27a51c385": {
          "model_module": "@jupyter-widgets/controls",
          "model_module_version": "1.5.0",
          "model_name": "SliderStyleModel",
          "state": {
            "_model_module": "@jupyter-widgets/controls",
            "_model_module_version": "1.5.0",
            "_model_name": "SliderStyleModel",
            "_view_count": null,
            "_view_module": "@jupyter-widgets/base",
            "_view_module_version": "1.2.0",
            "_view_name": "StyleView",
            "description_width": "",
            "handle_color": null
          }
        }
      }
    }
  },
  "nbformat": 4,
  "nbformat_minor": 0
}
